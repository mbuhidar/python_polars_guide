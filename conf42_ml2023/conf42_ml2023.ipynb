{
 "cells": [
  {
   "cell_type": "markdown",
   "id": "eed708b4-83e2-4628-9678-27d567da292c",
   "metadata": {},
   "source": [
    "# Outline of Opinions\n",
    "\n",
    "- Load Data\n",
    "- Types\n",
    "- Chaining\n",
    "- Apply\n",
    "- Aggregation (Group By)"
   ]
  },
  {
   "cell_type": "markdown",
   "id": "9243d116-515f-4537-b949-862bb912e4ec",
   "metadata": {},
   "source": [
    "# Data"
   ]
  },
  {
   "cell_type": "code",
   "execution_count": 4,
   "id": "3eea36ac-ad12-4572-9094-88249808ea2e",
   "metadata": {},
   "outputs": [],
   "source": [
    "import numpy as np\n",
    "import polars as pl\n",
    "import pandas as pd"
   ]
  },
  {
   "cell_type": "code",
   "execution_count": 4,
   "id": "9eb4c88f-4ffc-42f1-aa8d-b10eae081bb6",
   "metadata": {},
   "outputs": [
    {
     "data": {
      "text/plain": [
       "'0.20.13'"
      ]
     },
     "execution_count": 4,
     "metadata": {},
     "output_type": "execute_result"
    }
   ],
   "source": [
    "pl.__version__"
   ]
  },
  {
   "cell_type": "code",
   "execution_count": 5,
   "id": "46ae5228-0bb6-4eaa-abd8-33451a6b385b",
   "metadata": {},
   "outputs": [],
   "source": [
    "import urllib.request\n",
    "import zipfile\n",
    "import os\n",
    "\n",
    "def download_and_unzip(url, extract_to='../datasets'):\n",
    "    zip_path, _ = urllib.request.urlretrieve(url)\n",
    "    with zipfile.ZipFile(zip_path) as zip_ref:\n",
    "        zip_ref.extractall(extract_to)\n",
    "    os.remove(zip_path)\n",
    "\n",
    "url = 'https://github.com/mattharrison/datasets/raw/master/data/vehicles.csv.zip'\n",
    "\n",
    "# download_and_unzip(url)"
   ]
  },
  {
   "cell_type": "code",
   "execution_count": 6,
   "id": "adb116b3-9709-4ba9-868b-7425c21fb35c",
   "metadata": {},
   "outputs": [],
   "source": [
    "autos = pl.read_csv('../datasets/vehicles.csv', null_values=['NA'])"
   ]
  },
  {
   "cell_type": "code",
   "execution_count": 11,
   "id": "cce131d1-da3b-4d60-b758-183ad1d9d478",
   "metadata": {},
   "outputs": [
    {
     "data": {
      "text/html": [
       "<div><style>\n",
       ".dataframe > thead > tr,\n",
       ".dataframe > tbody > tr {\n",
       "  text-align: right;\n",
       "  white-space: pre-wrap;\n",
       "}\n",
       "</style>\n",
       "<small>shape: (41_144, 83)</small><table border=\"1\" class=\"dataframe\"><thead><tr><th>barrels08</th><th>barrelsA08</th><th>charge120</th><th>charge240</th><th>city08</th><th>city08U</th><th>cityA08</th><th>cityA08U</th><th>cityCD</th><th>cityE</th><th>cityUF</th><th>co2</th><th>co2A</th><th>co2TailpipeAGpm</th><th>co2TailpipeGpm</th><th>comb08</th><th>comb08U</th><th>combA08</th><th>combA08U</th><th>combE</th><th>combinedCD</th><th>combinedUF</th><th>cylinders</th><th>displ</th><th>drive</th><th>engId</th><th>eng_dscr</th><th>feScore</th><th>fuelCost08</th><th>fuelCostA08</th><th>fuelType</th><th>fuelType1</th><th>ghgScore</th><th>ghgScoreA</th><th>highway08</th><th>highway08U</th><th>highwayA08</th><th>&hellip;</th><th>make</th><th>model</th><th>mpgData</th><th>phevBlended</th><th>pv2</th><th>pv4</th><th>range</th><th>rangeCity</th><th>rangeCityA</th><th>rangeHwy</th><th>rangeHwyA</th><th>trany</th><th>UCity</th><th>UCityA</th><th>UHighway</th><th>UHighwayA</th><th>VClass</th><th>year</th><th>youSaveSpend</th><th>guzzler</th><th>trans_dscr</th><th>tCharger</th><th>sCharger</th><th>atvType</th><th>fuelType2</th><th>rangeA</th><th>evMotor</th><th>mfrCode</th><th>c240Dscr</th><th>charge240b</th><th>c240bDscr</th><th>createdOn</th><th>modifiedOn</th><th>startStop</th><th>phevCity</th><th>phevHwy</th><th>phevComb</th></tr><tr><td>f64</td><td>f64</td><td>f64</td><td>f64</td><td>i64</td><td>f64</td><td>i64</td><td>f64</td><td>f64</td><td>f64</td><td>f64</td><td>i64</td><td>i64</td><td>f64</td><td>f64</td><td>i64</td><td>f64</td><td>i64</td><td>f64</td><td>f64</td><td>f64</td><td>f64</td><td>i64</td><td>f64</td><td>str</td><td>i64</td><td>str</td><td>i64</td><td>i64</td><td>i64</td><td>str</td><td>str</td><td>i64</td><td>i64</td><td>i64</td><td>f64</td><td>i64</td><td>&hellip;</td><td>str</td><td>str</td><td>str</td><td>bool</td><td>i64</td><td>i64</td><td>i64</td><td>f64</td><td>f64</td><td>f64</td><td>f64</td><td>str</td><td>f64</td><td>f64</td><td>f64</td><td>f64</td><td>str</td><td>i64</td><td>i64</td><td>str</td><td>str</td><td>str</td><td>str</td><td>str</td><td>str</td><td>str</td><td>str</td><td>str</td><td>str</td><td>f64</td><td>str</td><td>str</td><td>str</td><td>str</td><td>i64</td><td>i64</td><td>i64</td></tr></thead><tbody><tr><td>15.695714</td><td>0.0</td><td>0.0</td><td>0.0</td><td>19</td><td>0.0</td><td>0</td><td>0.0</td><td>0.0</td><td>0.0</td><td>0.0</td><td>-1</td><td>-1</td><td>0.0</td><td>423.190476</td><td>21</td><td>0.0</td><td>0</td><td>0.0</td><td>0.0</td><td>0.0</td><td>0.0</td><td>4</td><td>2.0</td><td>&quot;Rear-Wheel Dri…</td><td>9011</td><td>&quot;(FFS)&quot;</td><td>-1</td><td>2000</td><td>0</td><td>&quot;Regular&quot;</td><td>&quot;Regular Gasoli…</td><td>-1</td><td>-1</td><td>25</td><td>0.0</td><td>0</td><td>&hellip;</td><td>&quot;Alfa Romeo&quot;</td><td>&quot;Spider Veloce …</td><td>&quot;Y&quot;</td><td>false</td><td>0</td><td>0</td><td>0</td><td>0.0</td><td>0.0</td><td>0.0</td><td>0.0</td><td>&quot;Manual 5-spd&quot;</td><td>23.3333</td><td>0.0</td><td>35.0</td><td>0.0</td><td>&quot;Two Seaters&quot;</td><td>1985</td><td>-2250</td><td>null</td><td>null</td><td>null</td><td>null</td><td>null</td><td>null</td><td>null</td><td>null</td><td>null</td><td>null</td><td>0.0</td><td>null</td><td>&quot;Tue Jan 01 00:…</td><td>&quot;Tue Jan 01 00:…</td><td>null</td><td>0</td><td>0</td><td>0</td></tr><tr><td>29.964545</td><td>0.0</td><td>0.0</td><td>0.0</td><td>9</td><td>0.0</td><td>0</td><td>0.0</td><td>0.0</td><td>0.0</td><td>0.0</td><td>-1</td><td>-1</td><td>0.0</td><td>807.909091</td><td>11</td><td>0.0</td><td>0</td><td>0.0</td><td>0.0</td><td>0.0</td><td>0.0</td><td>12</td><td>4.9</td><td>&quot;Rear-Wheel Dri…</td><td>22020</td><td>&quot;(GUZZLER)&quot;</td><td>-1</td><td>3850</td><td>0</td><td>&quot;Regular&quot;</td><td>&quot;Regular Gasoli…</td><td>-1</td><td>-1</td><td>14</td><td>0.0</td><td>0</td><td>&hellip;</td><td>&quot;Ferrari&quot;</td><td>&quot;Testarossa&quot;</td><td>&quot;N&quot;</td><td>false</td><td>0</td><td>0</td><td>0</td><td>0.0</td><td>0.0</td><td>0.0</td><td>0.0</td><td>&quot;Manual 5-spd&quot;</td><td>11.0</td><td>0.0</td><td>19.0</td><td>0.0</td><td>&quot;Two Seaters&quot;</td><td>1985</td><td>-11500</td><td>&quot;T&quot;</td><td>null</td><td>null</td><td>null</td><td>null</td><td>null</td><td>null</td><td>null</td><td>null</td><td>null</td><td>0.0</td><td>null</td><td>&quot;Tue Jan 01 00:…</td><td>&quot;Tue Jan 01 00:…</td><td>null</td><td>0</td><td>0</td><td>0</td></tr><tr><td>12.207778</td><td>0.0</td><td>0.0</td><td>0.0</td><td>23</td><td>0.0</td><td>0</td><td>0.0</td><td>0.0</td><td>0.0</td><td>0.0</td><td>-1</td><td>-1</td><td>0.0</td><td>329.148148</td><td>27</td><td>0.0</td><td>0</td><td>0.0</td><td>0.0</td><td>0.0</td><td>0.0</td><td>4</td><td>2.2</td><td>&quot;Front-Wheel Dr…</td><td>2100</td><td>&quot;(FFS)&quot;</td><td>-1</td><td>1550</td><td>0</td><td>&quot;Regular&quot;</td><td>&quot;Regular Gasoli…</td><td>-1</td><td>-1</td><td>33</td><td>0.0</td><td>0</td><td>&hellip;</td><td>&quot;Dodge&quot;</td><td>&quot;Charger&quot;</td><td>&quot;Y&quot;</td><td>false</td><td>0</td><td>0</td><td>0</td><td>0.0</td><td>0.0</td><td>0.0</td><td>0.0</td><td>&quot;Manual 5-spd&quot;</td><td>29.0</td><td>0.0</td><td>47.0</td><td>0.0</td><td>&quot;Subcompact Car…</td><td>1985</td><td>0</td><td>null</td><td>&quot;SIL&quot;</td><td>null</td><td>null</td><td>null</td><td>null</td><td>null</td><td>null</td><td>null</td><td>null</td><td>0.0</td><td>null</td><td>&quot;Tue Jan 01 00:…</td><td>&quot;Tue Jan 01 00:…</td><td>null</td><td>0</td><td>0</td><td>0</td></tr><tr><td>29.964545</td><td>0.0</td><td>0.0</td><td>0.0</td><td>10</td><td>0.0</td><td>0</td><td>0.0</td><td>0.0</td><td>0.0</td><td>0.0</td><td>-1</td><td>-1</td><td>0.0</td><td>807.909091</td><td>11</td><td>0.0</td><td>0</td><td>0.0</td><td>0.0</td><td>0.0</td><td>0.0</td><td>8</td><td>5.2</td><td>&quot;Rear-Wheel Dri…</td><td>2850</td><td>null</td><td>-1</td><td>3850</td><td>0</td><td>&quot;Regular&quot;</td><td>&quot;Regular Gasoli…</td><td>-1</td><td>-1</td><td>12</td><td>0.0</td><td>0</td><td>&hellip;</td><td>&quot;Dodge&quot;</td><td>&quot;B150/B250 Wago…</td><td>&quot;N&quot;</td><td>false</td><td>0</td><td>0</td><td>0</td><td>0.0</td><td>0.0</td><td>0.0</td><td>0.0</td><td>&quot;Automatic 3-sp…</td><td>12.2222</td><td>0.0</td><td>16.6667</td><td>0.0</td><td>&quot;Vans&quot;</td><td>1985</td><td>-11500</td><td>null</td><td>null</td><td>null</td><td>null</td><td>null</td><td>null</td><td>null</td><td>null</td><td>null</td><td>null</td><td>0.0</td><td>null</td><td>&quot;Tue Jan 01 00:…</td><td>&quot;Tue Jan 01 00:…</td><td>null</td><td>0</td><td>0</td><td>0</td></tr><tr><td>17.347895</td><td>0.0</td><td>0.0</td><td>0.0</td><td>17</td><td>0.0</td><td>0</td><td>0.0</td><td>0.0</td><td>0.0</td><td>0.0</td><td>-1</td><td>-1</td><td>0.0</td><td>467.736842</td><td>19</td><td>0.0</td><td>0</td><td>0.0</td><td>0.0</td><td>0.0</td><td>0.0</td><td>4</td><td>2.2</td><td>&quot;4-Wheel or All…</td><td>66031</td><td>&quot;(FFS,TRBO)&quot;</td><td>-1</td><td>2700</td><td>0</td><td>&quot;Premium&quot;</td><td>&quot;Premium Gasoli…</td><td>-1</td><td>-1</td><td>23</td><td>0.0</td><td>0</td><td>&hellip;</td><td>&quot;Subaru&quot;</td><td>&quot;Legacy AWD Tur…</td><td>&quot;N&quot;</td><td>false</td><td>0</td><td>90</td><td>0</td><td>0.0</td><td>0.0</td><td>0.0</td><td>0.0</td><td>&quot;Manual 5-spd&quot;</td><td>21.0</td><td>0.0</td><td>32.0</td><td>0.0</td><td>&quot;Compact Cars&quot;</td><td>1993</td><td>-5750</td><td>null</td><td>null</td><td>&quot;T&quot;</td><td>null</td><td>null</td><td>null</td><td>null</td><td>null</td><td>null</td><td>null</td><td>0.0</td><td>null</td><td>&quot;Tue Jan 01 00:…</td><td>&quot;Tue Jan 01 00:…</td><td>null</td><td>0</td><td>0</td><td>0</td></tr><tr><td>&hellip;</td><td>&hellip;</td><td>&hellip;</td><td>&hellip;</td><td>&hellip;</td><td>&hellip;</td><td>&hellip;</td><td>&hellip;</td><td>&hellip;</td><td>&hellip;</td><td>&hellip;</td><td>&hellip;</td><td>&hellip;</td><td>&hellip;</td><td>&hellip;</td><td>&hellip;</td><td>&hellip;</td><td>&hellip;</td><td>&hellip;</td><td>&hellip;</td><td>&hellip;</td><td>&hellip;</td><td>&hellip;</td><td>&hellip;</td><td>&hellip;</td><td>&hellip;</td><td>&hellip;</td><td>&hellip;</td><td>&hellip;</td><td>&hellip;</td><td>&hellip;</td><td>&hellip;</td><td>&hellip;</td><td>&hellip;</td><td>&hellip;</td><td>&hellip;</td><td>&hellip;</td><td>&hellip;</td><td>&hellip;</td><td>&hellip;</td><td>&hellip;</td><td>&hellip;</td><td>&hellip;</td><td>&hellip;</td><td>&hellip;</td><td>&hellip;</td><td>&hellip;</td><td>&hellip;</td><td>&hellip;</td><td>&hellip;</td><td>&hellip;</td><td>&hellip;</td><td>&hellip;</td><td>&hellip;</td><td>&hellip;</td><td>&hellip;</td><td>&hellip;</td><td>&hellip;</td><td>&hellip;</td><td>&hellip;</td><td>&hellip;</td><td>&hellip;</td><td>&hellip;</td><td>&hellip;</td><td>&hellip;</td><td>&hellip;</td><td>&hellip;</td><td>&hellip;</td><td>&hellip;</td><td>&hellip;</td><td>&hellip;</td><td>&hellip;</td><td>&hellip;</td><td>&hellip;</td><td>&hellip;</td></tr><tr><td>14.982273</td><td>0.0</td><td>0.0</td><td>0.0</td><td>19</td><td>0.0</td><td>0</td><td>0.0</td><td>0.0</td><td>0.0</td><td>0.0</td><td>-1</td><td>-1</td><td>0.0</td><td>403.954545</td><td>22</td><td>0.0</td><td>0</td><td>0.0</td><td>0.0</td><td>0.0</td><td>0.0</td><td>4</td><td>2.2</td><td>&quot;Front-Wheel Dr…</td><td>66030</td><td>&quot;(FFS)&quot;</td><td>-1</td><td>1900</td><td>0</td><td>&quot;Regular&quot;</td><td>&quot;Regular Gasoli…</td><td>-1</td><td>-1</td><td>26</td><td>0.0</td><td>0</td><td>&hellip;</td><td>&quot;Subaru&quot;</td><td>&quot;Legacy&quot;</td><td>&quot;N&quot;</td><td>false</td><td>0</td><td>90</td><td>0</td><td>0.0</td><td>0.0</td><td>0.0</td><td>0.0</td><td>&quot;Automatic 4-sp…</td><td>24.0</td><td>0.0</td><td>37.0</td><td>0.0</td><td>&quot;Compact Cars&quot;</td><td>1993</td><td>-1750</td><td>null</td><td>&quot;CLKUP&quot;</td><td>null</td><td>null</td><td>null</td><td>null</td><td>null</td><td>null</td><td>null</td><td>null</td><td>0.0</td><td>null</td><td>&quot;Tue Jan 01 00:…</td><td>&quot;Tue Jan 01 00:…</td><td>null</td><td>0</td><td>0</td><td>0</td></tr><tr><td>14.33087</td><td>0.0</td><td>0.0</td><td>0.0</td><td>20</td><td>0.0</td><td>0</td><td>0.0</td><td>0.0</td><td>0.0</td><td>0.0</td><td>-1</td><td>-1</td><td>0.0</td><td>386.391304</td><td>23</td><td>0.0</td><td>0</td><td>0.0</td><td>0.0</td><td>0.0</td><td>0.0</td><td>4</td><td>2.2</td><td>&quot;Front-Wheel Dr…</td><td>66030</td><td>&quot;(FFS)&quot;</td><td>-1</td><td>1850</td><td>0</td><td>&quot;Regular&quot;</td><td>&quot;Regular Gasoli…</td><td>-1</td><td>-1</td><td>28</td><td>0.0</td><td>0</td><td>&hellip;</td><td>&quot;Subaru&quot;</td><td>&quot;Legacy&quot;</td><td>&quot;N&quot;</td><td>false</td><td>0</td><td>90</td><td>0</td><td>0.0</td><td>0.0</td><td>0.0</td><td>0.0</td><td>&quot;Manual 5-spd&quot;</td><td>25.0</td><td>0.0</td><td>39.0</td><td>0.0</td><td>&quot;Compact Cars&quot;</td><td>1993</td><td>-1500</td><td>null</td><td>null</td><td>null</td><td>null</td><td>null</td><td>null</td><td>null</td><td>null</td><td>null</td><td>null</td><td>0.0</td><td>null</td><td>&quot;Tue Jan 01 00:…</td><td>&quot;Tue Jan 01 00:…</td><td>null</td><td>0</td><td>0</td><td>0</td></tr><tr><td>15.695714</td><td>0.0</td><td>0.0</td><td>0.0</td><td>18</td><td>0.0</td><td>0</td><td>0.0</td><td>0.0</td><td>0.0</td><td>0.0</td><td>-1</td><td>-1</td><td>0.0</td><td>423.190476</td><td>21</td><td>0.0</td><td>0</td><td>0.0</td><td>0.0</td><td>0.0</td><td>0.0</td><td>4</td><td>2.2</td><td>&quot;4-Wheel or All…</td><td>66030</td><td>&quot;(FFS)&quot;</td><td>-1</td><td>2000</td><td>0</td><td>&quot;Regular&quot;</td><td>&quot;Regular Gasoli…</td><td>-1</td><td>-1</td><td>24</td><td>0.0</td><td>0</td><td>&hellip;</td><td>&quot;Subaru&quot;</td><td>&quot;Legacy AWD&quot;</td><td>&quot;Y&quot;</td><td>false</td><td>0</td><td>90</td><td>0</td><td>0.0</td><td>0.0</td><td>0.0</td><td>0.0</td><td>&quot;Automatic 4-sp…</td><td>23.0</td><td>0.0</td><td>34.0</td><td>0.0</td><td>&quot;Compact Cars&quot;</td><td>1993</td><td>-2250</td><td>null</td><td>&quot;CLKUP&quot;</td><td>null</td><td>null</td><td>null</td><td>null</td><td>null</td><td>null</td><td>null</td><td>null</td><td>0.0</td><td>null</td><td>&quot;Tue Jan 01 00:…</td><td>&quot;Tue Jan 01 00:…</td><td>null</td><td>0</td><td>0</td><td>0</td></tr><tr><td>15.695714</td><td>0.0</td><td>0.0</td><td>0.0</td><td>18</td><td>0.0</td><td>0</td><td>0.0</td><td>0.0</td><td>0.0</td><td>0.0</td><td>-1</td><td>-1</td><td>0.0</td><td>423.190476</td><td>21</td><td>0.0</td><td>0</td><td>0.0</td><td>0.0</td><td>0.0</td><td>0.0</td><td>4</td><td>2.2</td><td>&quot;4-Wheel or All…</td><td>66030</td><td>&quot;(FFS)&quot;</td><td>-1</td><td>2000</td><td>0</td><td>&quot;Regular&quot;</td><td>&quot;Regular Gasoli…</td><td>-1</td><td>-1</td><td>24</td><td>0.0</td><td>0</td><td>&hellip;</td><td>&quot;Subaru&quot;</td><td>&quot;Legacy AWD&quot;</td><td>&quot;Y&quot;</td><td>false</td><td>0</td><td>90</td><td>0</td><td>0.0</td><td>0.0</td><td>0.0</td><td>0.0</td><td>&quot;Manual 5-spd&quot;</td><td>23.0</td><td>0.0</td><td>34.0</td><td>0.0</td><td>&quot;Compact Cars&quot;</td><td>1993</td><td>-2250</td><td>null</td><td>null</td><td>null</td><td>null</td><td>null</td><td>null</td><td>null</td><td>null</td><td>null</td><td>null</td><td>0.0</td><td>null</td><td>&quot;Tue Jan 01 00:…</td><td>&quot;Tue Jan 01 00:…</td><td>null</td><td>0</td><td>0</td><td>0</td></tr><tr><td>18.311667</td><td>0.0</td><td>0.0</td><td>0.0</td><td>16</td><td>0.0</td><td>0</td><td>0.0</td><td>0.0</td><td>0.0</td><td>0.0</td><td>-1</td><td>-1</td><td>0.0</td><td>493.722222</td><td>18</td><td>0.0</td><td>0</td><td>0.0</td><td>0.0</td><td>0.0</td><td>0.0</td><td>4</td><td>2.2</td><td>&quot;4-Wheel or All…</td><td>66031</td><td>&quot;(FFS,TRBO)&quot;</td><td>-1</td><td>2900</td><td>0</td><td>&quot;Premium&quot;</td><td>&quot;Premium Gasoli…</td><td>-1</td><td>-1</td><td>21</td><td>0.0</td><td>0</td><td>&hellip;</td><td>&quot;Subaru&quot;</td><td>&quot;Legacy AWD Tur…</td><td>&quot;N&quot;</td><td>false</td><td>0</td><td>90</td><td>0</td><td>0.0</td><td>0.0</td><td>0.0</td><td>0.0</td><td>&quot;Automatic 4-sp…</td><td>20.0</td><td>0.0</td><td>29.0</td><td>0.0</td><td>&quot;Compact Cars&quot;</td><td>1993</td><td>-6750</td><td>null</td><td>&quot;CLKUP&quot;</td><td>&quot;T&quot;</td><td>null</td><td>null</td><td>null</td><td>null</td><td>null</td><td>null</td><td>null</td><td>0.0</td><td>null</td><td>&quot;Tue Jan 01 00:…</td><td>&quot;Tue Jan 01 00:…</td><td>null</td><td>0</td><td>0</td><td>0</td></tr></tbody></table></div>"
      ],
      "text/plain": [
       "shape: (41_144, 83)\n",
       "┌───────────┬────────────┬───────────┬───────────┬───┬───────────┬──────────┬─────────┬──────────┐\n",
       "│ barrels08 ┆ barrelsA08 ┆ charge120 ┆ charge240 ┆ … ┆ startStop ┆ phevCity ┆ phevHwy ┆ phevComb │\n",
       "│ ---       ┆ ---        ┆ ---       ┆ ---       ┆   ┆ ---       ┆ ---      ┆ ---     ┆ ---      │\n",
       "│ f64       ┆ f64        ┆ f64       ┆ f64       ┆   ┆ str       ┆ i64      ┆ i64     ┆ i64      │\n",
       "╞═══════════╪════════════╪═══════════╪═══════════╪═══╪═══════════╪══════════╪═════════╪══════════╡\n",
       "│ 15.695714 ┆ 0.0        ┆ 0.0       ┆ 0.0       ┆ … ┆ null      ┆ 0        ┆ 0       ┆ 0        │\n",
       "│ 29.964545 ┆ 0.0        ┆ 0.0       ┆ 0.0       ┆ … ┆ null      ┆ 0        ┆ 0       ┆ 0        │\n",
       "│ 12.207778 ┆ 0.0        ┆ 0.0       ┆ 0.0       ┆ … ┆ null      ┆ 0        ┆ 0       ┆ 0        │\n",
       "│ 29.964545 ┆ 0.0        ┆ 0.0       ┆ 0.0       ┆ … ┆ null      ┆ 0        ┆ 0       ┆ 0        │\n",
       "│ 17.347895 ┆ 0.0        ┆ 0.0       ┆ 0.0       ┆ … ┆ null      ┆ 0        ┆ 0       ┆ 0        │\n",
       "│ …         ┆ …          ┆ …         ┆ …         ┆ … ┆ …         ┆ …        ┆ …       ┆ …        │\n",
       "│ 14.982273 ┆ 0.0        ┆ 0.0       ┆ 0.0       ┆ … ┆ null      ┆ 0        ┆ 0       ┆ 0        │\n",
       "│ 14.33087  ┆ 0.0        ┆ 0.0       ┆ 0.0       ┆ … ┆ null      ┆ 0        ┆ 0       ┆ 0        │\n",
       "│ 15.695714 ┆ 0.0        ┆ 0.0       ┆ 0.0       ┆ … ┆ null      ┆ 0        ┆ 0       ┆ 0        │\n",
       "│ 15.695714 ┆ 0.0        ┆ 0.0       ┆ 0.0       ┆ … ┆ null      ┆ 0        ┆ 0       ┆ 0        │\n",
       "│ 18.311667 ┆ 0.0        ┆ 0.0       ┆ 0.0       ┆ … ┆ null      ┆ 0        ┆ 0       ┆ 0        │\n",
       "└───────────┴────────────┴───────────┴───────────┴───┴───────────┴──────────┴─────────┴──────────┘"
      ]
     },
     "execution_count": 11,
     "metadata": {},
     "output_type": "execute_result"
    }
   ],
   "source": [
    "autos"
   ]
  },
  {
   "cell_type": "code",
   "execution_count": 12,
   "id": "aaa4e7ec-5fcf-4a1a-a010-8d577327b829",
   "metadata": {},
   "outputs": [
    {
     "data": {
      "text/html": [
       "<div><style>\n",
       ".dataframe > thead > tr,\n",
       ".dataframe > tbody > tr {\n",
       "  text-align: right;\n",
       "  white-space: pre-wrap;\n",
       "}\n",
       "</style>\n",
       "<small>shape: (1, 83)</small><table border=\"1\" class=\"dataframe\"><thead><tr><th>barrels08</th><th>barrelsA08</th><th>charge120</th><th>charge240</th><th>city08</th><th>city08U</th><th>cityA08</th><th>cityA08U</th><th>cityCD</th><th>cityE</th><th>cityUF</th><th>co2</th><th>co2A</th><th>co2TailpipeAGpm</th><th>co2TailpipeGpm</th><th>comb08</th><th>comb08U</th><th>combA08</th><th>combA08U</th><th>combE</th><th>combinedCD</th><th>combinedUF</th><th>cylinders</th><th>displ</th><th>drive</th><th>engId</th><th>eng_dscr</th><th>feScore</th><th>fuelCost08</th><th>fuelCostA08</th><th>fuelType</th><th>fuelType1</th><th>ghgScore</th><th>ghgScoreA</th><th>highway08</th><th>highway08U</th><th>highwayA08</th><th>&hellip;</th><th>make</th><th>model</th><th>mpgData</th><th>phevBlended</th><th>pv2</th><th>pv4</th><th>range</th><th>rangeCity</th><th>rangeCityA</th><th>rangeHwy</th><th>rangeHwyA</th><th>trany</th><th>UCity</th><th>UCityA</th><th>UHighway</th><th>UHighwayA</th><th>VClass</th><th>year</th><th>youSaveSpend</th><th>guzzler</th><th>trans_dscr</th><th>tCharger</th><th>sCharger</th><th>atvType</th><th>fuelType2</th><th>rangeA</th><th>evMotor</th><th>mfrCode</th><th>c240Dscr</th><th>charge240b</th><th>c240bDscr</th><th>createdOn</th><th>modifiedOn</th><th>startStop</th><th>phevCity</th><th>phevHwy</th><th>phevComb</th></tr><tr><td>f64</td><td>f64</td><td>f64</td><td>f64</td><td>i64</td><td>f64</td><td>i64</td><td>f64</td><td>f64</td><td>f64</td><td>f64</td><td>i64</td><td>i64</td><td>f64</td><td>f64</td><td>i64</td><td>f64</td><td>i64</td><td>f64</td><td>f64</td><td>f64</td><td>f64</td><td>i64</td><td>f64</td><td>str</td><td>i64</td><td>str</td><td>i64</td><td>i64</td><td>i64</td><td>str</td><td>str</td><td>i64</td><td>i64</td><td>i64</td><td>f64</td><td>i64</td><td>&hellip;</td><td>str</td><td>str</td><td>str</td><td>bool</td><td>i64</td><td>i64</td><td>i64</td><td>f64</td><td>f64</td><td>f64</td><td>f64</td><td>str</td><td>f64</td><td>f64</td><td>f64</td><td>f64</td><td>str</td><td>i64</td><td>i64</td><td>str</td><td>str</td><td>str</td><td>str</td><td>str</td><td>str</td><td>str</td><td>str</td><td>str</td><td>str</td><td>f64</td><td>str</td><td>str</td><td>str</td><td>str</td><td>i64</td><td>i64</td><td>i64</td></tr></thead><tbody><tr><td>14.982273</td><td>0.0</td><td>0.0</td><td>0.0</td><td>20</td><td>0.0</td><td>0</td><td>0.0</td><td>0.0</td><td>0.0</td><td>0.0</td><td>-1</td><td>-1</td><td>0.0</td><td>403.954545</td><td>22</td><td>0.0</td><td>0</td><td>0.0</td><td>0.0</td><td>0.0</td><td>0.0</td><td>4</td><td>2.5</td><td>&quot;All-Wheel Driv…</td><td>15</td><td>null</td><td>-1</td><td>1900</td><td>0</td><td>&quot;Regular&quot;</td><td>&quot;Regular Gasoli…</td><td>-1</td><td>-1</td><td>26</td><td>0.0</td><td>0</td><td>&hellip;</td><td>&quot;Subaru&quot;</td><td>&quot;Impreza Wagon/…</td><td>&quot;Y&quot;</td><td>false</td><td>0</td><td>94</td><td>0</td><td>0.0</td><td>0.0</td><td>0.0</td><td>0.0</td><td>&quot;Automatic (S4)…</td><td>25.0678</td><td>0.0</td><td>35.9226</td><td>0.0</td><td>&quot;Small Station …</td><td>2010</td><td>-1750</td><td>null</td><td>null</td><td>null</td><td>null</td><td>null</td><td>null</td><td>null</td><td>null</td><td>null</td><td>null</td><td>0.0</td><td>null</td><td>&quot;Tue Jan 01 00:…</td><td>&quot;Tue Jan 01 00:…</td><td>null</td><td>0</td><td>0</td><td>0</td></tr></tbody></table></div>"
      ],
      "text/plain": [
       "shape: (1, 83)\n",
       "┌───────────┬────────────┬───────────┬───────────┬───┬───────────┬──────────┬─────────┬──────────┐\n",
       "│ barrels08 ┆ barrelsA08 ┆ charge120 ┆ charge240 ┆ … ┆ startStop ┆ phevCity ┆ phevHwy ┆ phevComb │\n",
       "│ ---       ┆ ---        ┆ ---       ┆ ---       ┆   ┆ ---       ┆ ---      ┆ ---     ┆ ---      │\n",
       "│ f64       ┆ f64        ┆ f64       ┆ f64       ┆   ┆ str       ┆ i64      ┆ i64     ┆ i64      │\n",
       "╞═══════════╪════════════╪═══════════╪═══════════╪═══╪═══════════╪══════════╪═════════╪══════════╡\n",
       "│ 14.982273 ┆ 0.0        ┆ 0.0       ┆ 0.0       ┆ … ┆ null      ┆ 0        ┆ 0       ┆ 0        │\n",
       "└───────────┴────────────┴───────────┴───────────┴───┴───────────┴──────────┴─────────┴──────────┘"
      ]
     },
     "execution_count": 12,
     "metadata": {},
     "output_type": "execute_result"
    }
   ],
   "source": [
    "autos.sample()"
   ]
  },
  {
   "cell_type": "code",
   "execution_count": 7,
   "id": "39eb61c9-fba2-4a0a-a973-131e44d51375",
   "metadata": {},
   "outputs": [
    {
     "data": {
      "text/plain": [
       "['barrels08',\n",
       " 'barrelsA08',\n",
       " 'charge120',\n",
       " 'charge240',\n",
       " 'city08',\n",
       " 'city08U',\n",
       " 'cityA08',\n",
       " 'cityA08U',\n",
       " 'cityCD',\n",
       " 'cityE',\n",
       " 'cityUF',\n",
       " 'co2',\n",
       " 'co2A',\n",
       " 'co2TailpipeAGpm',\n",
       " 'co2TailpipeGpm',\n",
       " 'comb08',\n",
       " 'comb08U',\n",
       " 'combA08',\n",
       " 'combA08U',\n",
       " 'combE',\n",
       " 'combinedCD',\n",
       " 'combinedUF',\n",
       " 'cylinders',\n",
       " 'displ',\n",
       " 'drive',\n",
       " 'engId',\n",
       " 'eng_dscr',\n",
       " 'feScore',\n",
       " 'fuelCost08',\n",
       " 'fuelCostA08',\n",
       " 'fuelType',\n",
       " 'fuelType1',\n",
       " 'ghgScore',\n",
       " 'ghgScoreA',\n",
       " 'highway08',\n",
       " 'highway08U',\n",
       " 'highwayA08',\n",
       " 'highwayA08U',\n",
       " 'highwayCD',\n",
       " 'highwayE',\n",
       " 'highwayUF',\n",
       " 'hlv',\n",
       " 'hpv',\n",
       " 'id',\n",
       " 'lv2',\n",
       " 'lv4',\n",
       " 'make',\n",
       " 'model',\n",
       " 'mpgData',\n",
       " 'phevBlended',\n",
       " 'pv2',\n",
       " 'pv4',\n",
       " 'range',\n",
       " 'rangeCity',\n",
       " 'rangeCityA',\n",
       " 'rangeHwy',\n",
       " 'rangeHwyA',\n",
       " 'trany',\n",
       " 'UCity',\n",
       " 'UCityA',\n",
       " 'UHighway',\n",
       " 'UHighwayA',\n",
       " 'VClass',\n",
       " 'year',\n",
       " 'youSaveSpend',\n",
       " 'guzzler',\n",
       " 'trans_dscr',\n",
       " 'tCharger',\n",
       " 'sCharger',\n",
       " 'atvType',\n",
       " 'fuelType2',\n",
       " 'rangeA',\n",
       " 'evMotor',\n",
       " 'mfrCode',\n",
       " 'c240Dscr',\n",
       " 'charge240b',\n",
       " 'c240bDscr',\n",
       " 'createdOn',\n",
       " 'modifiedOn',\n",
       " 'startStop',\n",
       " 'phevCity',\n",
       " 'phevHwy',\n",
       " 'phevComb']"
      ]
     },
     "execution_count": 7,
     "metadata": {},
     "output_type": "execute_result"
    }
   ],
   "source": [
    "autos.columns"
   ]
  },
  {
   "cell_type": "code",
   "execution_count": 9,
   "id": "c4270b69-8be1-490c-8577-6403e9907347",
   "metadata": {},
   "outputs": [
    {
     "data": {
      "text/plain": [
       "39730067"
      ]
     },
     "execution_count": 9,
     "metadata": {},
     "output_type": "execute_result"
    }
   ],
   "source": [
    "#39.7 mb\n",
    "autos.estimated_size()"
   ]
  },
  {
   "cell_type": "markdown",
   "id": "3db08be0-4a8b-4e92-81d4-49762a804400",
   "metadata": {},
   "source": [
    "# Types\n",
    "Getting the right types will enable analysis and size reduction"
   ]
  },
  {
   "cell_type": "code",
   "execution_count": 14,
   "id": "99412acf-2bf3-4276-8b8d-e1f7a9ebcd3c",
   "metadata": {},
   "outputs": [],
   "source": [
    "cols = ['city08', 'comb08', 'highway08', 'cylinders', 'displ', 'drive', 'eng_dscr', 'fuelCost08', 'make', 'model', 'trany', 'range', 'createdOn', 'year']"
   ]
  },
  {
   "cell_type": "code",
   "execution_count": 15,
   "id": "f0c66448-2783-46c2-adc0-95c179860dde",
   "metadata": {},
   "outputs": [
    {
     "data": {
      "text/plain": [
       "[Int64,\n",
       " Int64,\n",
       " Int64,\n",
       " Int64,\n",
       " Float64,\n",
       " String,\n",
       " String,\n",
       " Int64,\n",
       " String,\n",
       " String,\n",
       " String,\n",
       " Int64,\n",
       " String,\n",
       " Int64]"
      ]
     },
     "execution_count": 15,
     "metadata": {},
     "output_type": "execute_result"
    }
   ],
   "source": [
    "autos[cols].dtypes"
   ]
  },
  {
   "cell_type": "code",
   "execution_count": 16,
   "id": "92f8abf2-f9bf-4795-b1f8-5a57ae66279b",
   "metadata": {},
   "outputs": [
    {
     "data": {
      "text/plain": [
       "9295517"
      ]
     },
     "execution_count": 16,
     "metadata": {},
     "output_type": "execute_result"
    }
   ],
   "source": [
    "# 9.3 mb\n",
    "autos[cols].estimated_size()"
   ]
  },
  {
   "cell_type": "markdown",
   "id": "8dd91db1-3b7f-44c0-b6e7-cc8300756eb8",
   "metadata": {},
   "source": [
    "# Ints"
   ]
  },
  {
   "cell_type": "code",
   "execution_count": 17,
   "id": "a470debd-92c7-4adc-ba70-4a03826e9410",
   "metadata": {},
   "outputs": [
    {
     "data": {
      "text/html": [
       "<div><style>\n",
       ".dataframe > thead > tr,\n",
       ".dataframe > tbody > tr {\n",
       "  text-align: right;\n",
       "  white-space: pre-wrap;\n",
       "}\n",
       "</style>\n",
       "<small>shape: (41_144, 7)</small><table border=\"1\" class=\"dataframe\"><thead><tr><th>city08</th><th>comb08</th><th>highway08</th><th>cylinders</th><th>fuelCost08</th><th>range</th><th>year</th></tr><tr><td>i64</td><td>i64</td><td>i64</td><td>i64</td><td>i64</td><td>i64</td><td>i64</td></tr></thead><tbody><tr><td>19</td><td>21</td><td>25</td><td>4</td><td>2000</td><td>0</td><td>1985</td></tr><tr><td>9</td><td>11</td><td>14</td><td>12</td><td>3850</td><td>0</td><td>1985</td></tr><tr><td>23</td><td>27</td><td>33</td><td>4</td><td>1550</td><td>0</td><td>1985</td></tr><tr><td>10</td><td>11</td><td>12</td><td>8</td><td>3850</td><td>0</td><td>1985</td></tr><tr><td>17</td><td>19</td><td>23</td><td>4</td><td>2700</td><td>0</td><td>1993</td></tr><tr><td>&hellip;</td><td>&hellip;</td><td>&hellip;</td><td>&hellip;</td><td>&hellip;</td><td>&hellip;</td><td>&hellip;</td></tr><tr><td>19</td><td>22</td><td>26</td><td>4</td><td>1900</td><td>0</td><td>1993</td></tr><tr><td>20</td><td>23</td><td>28</td><td>4</td><td>1850</td><td>0</td><td>1993</td></tr><tr><td>18</td><td>21</td><td>24</td><td>4</td><td>2000</td><td>0</td><td>1993</td></tr><tr><td>18</td><td>21</td><td>24</td><td>4</td><td>2000</td><td>0</td><td>1993</td></tr><tr><td>16</td><td>18</td><td>21</td><td>4</td><td>2900</td><td>0</td><td>1993</td></tr></tbody></table></div>"
      ],
      "text/plain": [
       "shape: (41_144, 7)\n",
       "┌────────┬────────┬───────────┬───────────┬────────────┬───────┬──────┐\n",
       "│ city08 ┆ comb08 ┆ highway08 ┆ cylinders ┆ fuelCost08 ┆ range ┆ year │\n",
       "│ ---    ┆ ---    ┆ ---       ┆ ---       ┆ ---        ┆ ---   ┆ ---  │\n",
       "│ i64    ┆ i64    ┆ i64       ┆ i64       ┆ i64        ┆ i64   ┆ i64  │\n",
       "╞════════╪════════╪═══════════╪═══════════╪════════════╪═══════╪══════╡\n",
       "│ 19     ┆ 21     ┆ 25        ┆ 4         ┆ 2000       ┆ 0     ┆ 1985 │\n",
       "│ 9      ┆ 11     ┆ 14        ┆ 12        ┆ 3850       ┆ 0     ┆ 1985 │\n",
       "│ 23     ┆ 27     ┆ 33        ┆ 4         ┆ 1550       ┆ 0     ┆ 1985 │\n",
       "│ 10     ┆ 11     ┆ 12        ┆ 8         ┆ 3850       ┆ 0     ┆ 1985 │\n",
       "│ 17     ┆ 19     ┆ 23        ┆ 4         ┆ 2700       ┆ 0     ┆ 1993 │\n",
       "│ …      ┆ …      ┆ …         ┆ …         ┆ …          ┆ …     ┆ …    │\n",
       "│ 19     ┆ 22     ┆ 26        ┆ 4         ┆ 1900       ┆ 0     ┆ 1993 │\n",
       "│ 20     ┆ 23     ┆ 28        ┆ 4         ┆ 1850       ┆ 0     ┆ 1993 │\n",
       "│ 18     ┆ 21     ┆ 24        ┆ 4         ┆ 2000       ┆ 0     ┆ 1993 │\n",
       "│ 18     ┆ 21     ┆ 24        ┆ 4         ┆ 2000       ┆ 0     ┆ 1993 │\n",
       "│ 16     ┆ 18     ┆ 21        ┆ 4         ┆ 2900       ┆ 0     ┆ 1993 │\n",
       "└────────┴────────┴───────────┴───────────┴────────────┴───────┴──────┘"
      ]
     },
     "execution_count": 17,
     "metadata": {},
     "output_type": "execute_result"
    }
   ],
   "source": [
    "autos[cols].select(pl.col(pl.Int64))"
   ]
  },
  {
   "cell_type": "code",
   "execution_count": 18,
   "id": "0f1ce0e7-f982-479f-bece-820fcebb0921",
   "metadata": {},
   "outputs": [
    {
     "data": {
      "text/html": [
       "<div><style>\n",
       ".dataframe > thead > tr,\n",
       ".dataframe > tbody > tr {\n",
       "  text-align: right;\n",
       "  white-space: pre-wrap;\n",
       "}\n",
       "</style>\n",
       "<small>shape: (9, 8)</small><table border=\"1\" class=\"dataframe\"><thead><tr><th>statistic</th><th>city08</th><th>comb08</th><th>highway08</th><th>cylinders</th><th>fuelCost08</th><th>range</th><th>year</th></tr><tr><td>str</td><td>f64</td><td>f64</td><td>f64</td><td>f64</td><td>f64</td><td>f64</td><td>f64</td></tr></thead><tbody><tr><td>&quot;count&quot;</td><td>41144.0</td><td>41144.0</td><td>41144.0</td><td>40938.0</td><td>41144.0</td><td>41144.0</td><td>41144.0</td></tr><tr><td>&quot;null_count&quot;</td><td>0.0</td><td>0.0</td><td>0.0</td><td>206.0</td><td>0.0</td><td>0.0</td><td>0.0</td></tr><tr><td>&quot;mean&quot;</td><td>18.369045</td><td>20.616396</td><td>24.504667</td><td>5.717084</td><td>2362.335942</td><td>0.793506</td><td>2001.535266</td></tr><tr><td>&quot;std&quot;</td><td>7.905886</td><td>7.674535</td><td>7.730364</td><td>1.755517</td><td>654.981925</td><td>13.041592</td><td>11.142414</td></tr><tr><td>&quot;min&quot;</td><td>6.0</td><td>7.0</td><td>9.0</td><td>2.0</td><td>500.0</td><td>0.0</td><td>1984.0</td></tr><tr><td>&quot;25%&quot;</td><td>15.0</td><td>17.0</td><td>20.0</td><td>4.0</td><td>1900.0</td><td>0.0</td><td>1991.0</td></tr><tr><td>&quot;50%&quot;</td><td>17.0</td><td>20.0</td><td>24.0</td><td>6.0</td><td>2350.0</td><td>0.0</td><td>2002.0</td></tr><tr><td>&quot;75%&quot;</td><td>20.0</td><td>23.0</td><td>28.0</td><td>6.0</td><td>2700.0</td><td>0.0</td><td>2011.0</td></tr><tr><td>&quot;max&quot;</td><td>150.0</td><td>136.0</td><td>124.0</td><td>16.0</td><td>7400.0</td><td>370.0</td><td>2020.0</td></tr></tbody></table></div>"
      ],
      "text/plain": [
       "shape: (9, 8)\n",
       "┌────────────┬───────────┬───────────┬───────────┬───────────┬────────────┬───────────┬────────────┐\n",
       "│ statistic  ┆ city08    ┆ comb08    ┆ highway08 ┆ cylinders ┆ fuelCost08 ┆ range     ┆ year       │\n",
       "│ ---        ┆ ---       ┆ ---       ┆ ---       ┆ ---       ┆ ---        ┆ ---       ┆ ---        │\n",
       "│ str        ┆ f64       ┆ f64       ┆ f64       ┆ f64       ┆ f64        ┆ f64       ┆ f64        │\n",
       "╞════════════╪═══════════╪═══════════╪═══════════╪═══════════╪════════════╪═══════════╪════════════╡\n",
       "│ count      ┆ 41144.0   ┆ 41144.0   ┆ 41144.0   ┆ 40938.0   ┆ 41144.0    ┆ 41144.0   ┆ 41144.0    │\n",
       "│ null_count ┆ 0.0       ┆ 0.0       ┆ 0.0       ┆ 206.0     ┆ 0.0        ┆ 0.0       ┆ 0.0        │\n",
       "│ mean       ┆ 18.369045 ┆ 20.616396 ┆ 24.504667 ┆ 5.717084  ┆ 2362.33594 ┆ 0.793506  ┆ 2001.53526 │\n",
       "│            ┆           ┆           ┆           ┆           ┆ 2          ┆           ┆ 6          │\n",
       "│ std        ┆ 7.905886  ┆ 7.674535  ┆ 7.730364  ┆ 1.755517  ┆ 654.981925 ┆ 13.041592 ┆ 11.142414  │\n",
       "│ min        ┆ 6.0       ┆ 7.0       ┆ 9.0       ┆ 2.0       ┆ 500.0      ┆ 0.0       ┆ 1984.0     │\n",
       "│ 25%        ┆ 15.0      ┆ 17.0      ┆ 20.0      ┆ 4.0       ┆ 1900.0     ┆ 0.0       ┆ 1991.0     │\n",
       "│ 50%        ┆ 17.0      ┆ 20.0      ┆ 24.0      ┆ 6.0       ┆ 2350.0     ┆ 0.0       ┆ 2002.0     │\n",
       "│ 75%        ┆ 20.0      ┆ 23.0      ┆ 28.0      ┆ 6.0       ┆ 2700.0     ┆ 0.0       ┆ 2011.0     │\n",
       "│ max        ┆ 150.0     ┆ 136.0     ┆ 124.0     ┆ 16.0      ┆ 7400.0     ┆ 370.0     ┆ 2020.0     │\n",
       "└────────────┴───────────┴───────────┴───────────┴───────────┴────────────┴───────────┴────────────┘"
      ]
     },
     "execution_count": 18,
     "metadata": {},
     "output_type": "execute_result"
    }
   ],
   "source": [
    "autos[cols].select(pl.col(pl.Int64)).describe()"
   ]
  },
  {
   "cell_type": "code",
   "execution_count": 19,
   "id": "f9c21dac-6955-4d09-b8ff-e974aa661ba5",
   "metadata": {},
   "outputs": [
    {
     "data": {
      "text/html": [
       "<div><style>\n",
       ".dataframe > thead > tr,\n",
       ".dataframe > tbody > tr {\n",
       "  text-align: right;\n",
       "  white-space: pre-wrap;\n",
       "}\n",
       "</style>\n",
       "<small>shape: (9, 8)</small><table border=\"1\" class=\"dataframe\"><thead><tr><th>statistic</th><th>city08</th><th>comb08</th><th>highway08</th><th>cylinders</th><th>fuelCost08</th><th>range</th><th>year</th></tr><tr><td>str</td><td>f64</td><td>f64</td><td>f64</td><td>f64</td><td>f64</td><td>f64</td><td>f64</td></tr></thead><tbody><tr><td>&quot;count&quot;</td><td>41144.0</td><td>41144.0</td><td>41144.0</td><td>40938.0</td><td>41144.0</td><td>41144.0</td><td>41144.0</td></tr><tr><td>&quot;null_count&quot;</td><td>0.0</td><td>0.0</td><td>0.0</td><td>206.0</td><td>0.0</td><td>0.0</td><td>0.0</td></tr><tr><td>&quot;mean&quot;</td><td>18.369045</td><td>20.616396</td><td>24.504667</td><td>5.717084</td><td>2362.335942</td><td>0.793506</td><td>2001.535266</td></tr><tr><td>&quot;std&quot;</td><td>7.905886</td><td>7.674535</td><td>7.730364</td><td>1.755517</td><td>654.981925</td><td>13.041592</td><td>11.142414</td></tr><tr><td>&quot;min&quot;</td><td>6.0</td><td>7.0</td><td>9.0</td><td>2.0</td><td>500.0</td><td>0.0</td><td>1984.0</td></tr><tr><td>&quot;25%&quot;</td><td>15.0</td><td>17.0</td><td>20.0</td><td>4.0</td><td>1900.0</td><td>0.0</td><td>1991.0</td></tr><tr><td>&quot;50%&quot;</td><td>17.0</td><td>20.0</td><td>24.0</td><td>6.0</td><td>2350.0</td><td>0.0</td><td>2002.0</td></tr><tr><td>&quot;75%&quot;</td><td>20.0</td><td>23.0</td><td>28.0</td><td>6.0</td><td>2700.0</td><td>0.0</td><td>2011.0</td></tr><tr><td>&quot;max&quot;</td><td>150.0</td><td>136.0</td><td>124.0</td><td>16.0</td><td>7400.0</td><td>370.0</td><td>2020.0</td></tr></tbody></table></div>"
      ],
      "text/plain": [
       "shape: (9, 8)\n",
       "┌────────────┬───────────┬───────────┬───────────┬───────────┬────────────┬───────────┬────────────┐\n",
       "│ statistic  ┆ city08    ┆ comb08    ┆ highway08 ┆ cylinders ┆ fuelCost08 ┆ range     ┆ year       │\n",
       "│ ---        ┆ ---       ┆ ---       ┆ ---       ┆ ---       ┆ ---        ┆ ---       ┆ ---        │\n",
       "│ str        ┆ f64       ┆ f64       ┆ f64       ┆ f64       ┆ f64        ┆ f64       ┆ f64        │\n",
       "╞════════════╪═══════════╪═══════════╪═══════════╪═══════════╪════════════╪═══════════╪════════════╡\n",
       "│ count      ┆ 41144.0   ┆ 41144.0   ┆ 41144.0   ┆ 40938.0   ┆ 41144.0    ┆ 41144.0   ┆ 41144.0    │\n",
       "│ null_count ┆ 0.0       ┆ 0.0       ┆ 0.0       ┆ 206.0     ┆ 0.0        ┆ 0.0       ┆ 0.0        │\n",
       "│ mean       ┆ 18.369045 ┆ 20.616396 ┆ 24.504667 ┆ 5.717084  ┆ 2362.33594 ┆ 0.793506  ┆ 2001.53526 │\n",
       "│            ┆           ┆           ┆           ┆           ┆ 2          ┆           ┆ 6          │\n",
       "│ std        ┆ 7.905886  ┆ 7.674535  ┆ 7.730364  ┆ 1.755517  ┆ 654.981925 ┆ 13.041592 ┆ 11.142414  │\n",
       "│ min        ┆ 6.0       ┆ 7.0       ┆ 9.0       ┆ 2.0       ┆ 500.0      ┆ 0.0       ┆ 1984.0     │\n",
       "│ 25%        ┆ 15.0      ┆ 17.0      ┆ 20.0      ┆ 4.0       ┆ 1900.0     ┆ 0.0       ┆ 1991.0     │\n",
       "│ 50%        ┆ 17.0      ┆ 20.0      ┆ 24.0      ┆ 6.0       ┆ 2350.0     ┆ 0.0       ┆ 2002.0     │\n",
       "│ 75%        ┆ 20.0      ┆ 23.0      ┆ 28.0      ┆ 6.0       ┆ 2700.0     ┆ 0.0       ┆ 2011.0     │\n",
       "│ max        ┆ 150.0     ┆ 136.0     ┆ 124.0     ┆ 16.0      ┆ 7400.0     ┆ 370.0     ┆ 2020.0     │\n",
       "└────────────┴───────────┴───────────┴───────────┴───────────┴────────────┴───────────┴────────────┘"
      ]
     },
     "execution_count": 19,
     "metadata": {},
     "output_type": "execute_result"
    }
   ],
   "source": [
    "# chaining alternative - parenthesis allow ignoring white space\n",
    "(autos\n",
    " [cols]\n",
    " .select(pl.col(pl.Int64))\n",
    " .describe()\n",
    ")"
   ]
  },
  {
   "cell_type": "code",
   "execution_count": 20,
   "id": "f687bc1c-c517-46c6-849c-baeb5553e905",
   "metadata": {},
   "outputs": [
    {
     "data": {
      "text/plain": [
       "iinfo(min=-128, max=127, dtype=int8)"
      ]
     },
     "execution_count": 20,
     "metadata": {},
     "output_type": "execute_result"
    }
   ],
   "source": [
    "# can comb08 be an int8?\n",
    "np.iinfo(np.int8)"
   ]
  },
  {
   "cell_type": "code",
   "execution_count": 21,
   "id": "834fa3c8-c49b-464b-a214-eacb00e5349f",
   "metadata": {},
   "outputs": [
    {
     "data": {
      "text/plain": [
       "iinfo(min=0, max=255, dtype=uint8)"
      ]
     },
     "execution_count": 21,
     "metadata": {},
     "output_type": "execute_result"
    }
   ],
   "source": [
    "# no, but maybe a uint8\n",
    "np.iinfo(np.uint8)"
   ]
  },
  {
   "cell_type": "code",
   "execution_count": 22,
   "id": "33a79c15-4f1b-4057-aa01-7473f1ee6774",
   "metadata": {},
   "outputs": [
    {
     "data": {
      "text/html": [
       "<div><style>\n",
       ".dataframe > thead > tr,\n",
       ".dataframe > tbody > tr {\n",
       "  text-align: right;\n",
       "  white-space: pre-wrap;\n",
       "}\n",
       "</style>\n",
       "<small>shape: (9, 15)</small><table border=\"1\" class=\"dataframe\"><thead><tr><th>statistic</th><th>city08</th><th>comb08</th><th>highway08</th><th>cylinders</th><th>displ</th><th>drive</th><th>eng_dscr</th><th>fuelCost08</th><th>make</th><th>model</th><th>trany</th><th>range</th><th>createdOn</th><th>year</th></tr><tr><td>str</td><td>f64</td><td>f64</td><td>f64</td><td>f64</td><td>f64</td><td>str</td><td>str</td><td>f64</td><td>str</td><td>str</td><td>str</td><td>f64</td><td>str</td><td>f64</td></tr></thead><tbody><tr><td>&quot;count&quot;</td><td>41144.0</td><td>41144.0</td><td>41144.0</td><td>40938.0</td><td>40940.0</td><td>&quot;39955&quot;</td><td>&quot;24991&quot;</td><td>41144.0</td><td>&quot;41144&quot;</td><td>&quot;41144&quot;</td><td>&quot;41133&quot;</td><td>41144.0</td><td>&quot;41144&quot;</td><td>41144.0</td></tr><tr><td>&quot;null_count&quot;</td><td>0.0</td><td>0.0</td><td>0.0</td><td>206.0</td><td>204.0</td><td>&quot;1189&quot;</td><td>&quot;16153&quot;</td><td>0.0</td><td>&quot;0&quot;</td><td>&quot;0&quot;</td><td>&quot;11&quot;</td><td>0.0</td><td>&quot;0&quot;</td><td>0.0</td></tr><tr><td>&quot;mean&quot;</td><td>18.369045</td><td>20.616396</td><td>24.504667</td><td>5.717084</td><td>3.294238</td><td>null</td><td>null</td><td>2362.335942</td><td>null</td><td>null</td><td>null</td><td>0.793506</td><td>null</td><td>2001.535266</td></tr><tr><td>&quot;std&quot;</td><td>7.905886</td><td>7.674535</td><td>7.730364</td><td>1.755517</td><td>1.357151</td><td>null</td><td>null</td><td>654.981925</td><td>null</td><td>null</td><td>null</td><td>13.041592</td><td>null</td><td>11.142414</td></tr><tr><td>&quot;min&quot;</td><td>6.0</td><td>7.0</td><td>9.0</td><td>2.0</td><td>0.0</td><td>&quot;2-Wheel Drive&quot;</td><td>&quot;(121)      (FF…</td><td>500.0</td><td>&quot;AM General&quot;</td><td>&quot;1-Ton Truck 2W…</td><td>&quot;Automatic (A1)…</td><td>0.0</td><td>&quot;Fri Apr 11 00:…</td><td>1984.0</td></tr><tr><td>&quot;25%&quot;</td><td>15.0</td><td>17.0</td><td>20.0</td><td>4.0</td><td>2.2</td><td>null</td><td>null</td><td>1900.0</td><td>null</td><td>null</td><td>null</td><td>0.0</td><td>null</td><td>1991.0</td></tr><tr><td>&quot;50%&quot;</td><td>17.0</td><td>20.0</td><td>24.0</td><td>6.0</td><td>3.0</td><td>null</td><td>null</td><td>2350.0</td><td>null</td><td>null</td><td>null</td><td>0.0</td><td>null</td><td>2002.0</td></tr><tr><td>&quot;75%&quot;</td><td>20.0</td><td>23.0</td><td>28.0</td><td>6.0</td><td>4.3</td><td>null</td><td>null</td><td>2700.0</td><td>null</td><td>null</td><td>null</td><td>0.0</td><td>null</td><td>2011.0</td></tr><tr><td>&quot;max&quot;</td><td>150.0</td><td>136.0</td><td>124.0</td><td>16.0</td><td>8.4</td><td>&quot;Rear-Wheel Dri…</td><td>&quot;new body style…</td><td>7400.0</td><td>&quot;smart&quot;</td><td>&quot;xD&quot;</td><td>&quot;Manual 7-spd&quot;</td><td>370.0</td><td>&quot;Wed Sep 27 00:…</td><td>2020.0</td></tr></tbody></table></div>"
      ],
      "text/plain": [
       "shape: (9, 15)\n",
       "┌───────────┬───────────┬───────────┬───────────┬───┬───────────┬───────────┬───────────┬──────────┐\n",
       "│ statistic ┆ city08    ┆ comb08    ┆ highway08 ┆ … ┆ trany     ┆ range     ┆ createdOn ┆ year     │\n",
       "│ ---       ┆ ---       ┆ ---       ┆ ---       ┆   ┆ ---       ┆ ---       ┆ ---       ┆ ---      │\n",
       "│ str       ┆ f64       ┆ f64       ┆ f64       ┆   ┆ str       ┆ f64       ┆ str       ┆ f64      │\n",
       "╞═══════════╪═══════════╪═══════════╪═══════════╪═══╪═══════════╪═══════════╪═══════════╪══════════╡\n",
       "│ count     ┆ 41144.0   ┆ 41144.0   ┆ 41144.0   ┆ … ┆ 41133     ┆ 41144.0   ┆ 41144     ┆ 41144.0  │\n",
       "│ null_coun ┆ 0.0       ┆ 0.0       ┆ 0.0       ┆ … ┆ 11        ┆ 0.0       ┆ 0         ┆ 0.0      │\n",
       "│ t         ┆           ┆           ┆           ┆   ┆           ┆           ┆           ┆          │\n",
       "│ mean      ┆ 18.369045 ┆ 20.616396 ┆ 24.504667 ┆ … ┆ null      ┆ 0.793506  ┆ null      ┆ 2001.535 │\n",
       "│           ┆           ┆           ┆           ┆   ┆           ┆           ┆           ┆ 266      │\n",
       "│ std       ┆ 7.905886  ┆ 7.674535  ┆ 7.730364  ┆ … ┆ null      ┆ 13.041592 ┆ null      ┆ 11.14241 │\n",
       "│           ┆           ┆           ┆           ┆   ┆           ┆           ┆           ┆ 4        │\n",
       "│ min       ┆ 6.0       ┆ 7.0       ┆ 9.0       ┆ … ┆ Automatic ┆ 0.0       ┆ Fri Apr   ┆ 1984.0   │\n",
       "│           ┆           ┆           ┆           ┆   ┆ (A1)      ┆           ┆ 11        ┆          │\n",
       "│           ┆           ┆           ┆           ┆   ┆           ┆           ┆ 00:00:00  ┆          │\n",
       "│           ┆           ┆           ┆           ┆   ┆           ┆           ┆ EDT 2014  ┆          │\n",
       "│ 25%       ┆ 15.0      ┆ 17.0      ┆ 20.0      ┆ … ┆ null      ┆ 0.0       ┆ null      ┆ 1991.0   │\n",
       "│ 50%       ┆ 17.0      ┆ 20.0      ┆ 24.0      ┆ … ┆ null      ┆ 0.0       ┆ null      ┆ 2002.0   │\n",
       "│ 75%       ┆ 20.0      ┆ 23.0      ┆ 28.0      ┆ … ┆ null      ┆ 0.0       ┆ null      ┆ 2011.0   │\n",
       "│ max       ┆ 150.0     ┆ 136.0     ┆ 124.0     ┆ … ┆ Manual    ┆ 370.0     ┆ Wed Sep   ┆ 2020.0   │\n",
       "│           ┆           ┆           ┆           ┆   ┆ 7-spd     ┆           ┆ 27        ┆          │\n",
       "│           ┆           ┆           ┆           ┆   ┆           ┆           ┆ 00:00:00  ┆          │\n",
       "│           ┆           ┆           ┆           ┆   ┆           ┆           ┆ EDT 2017  ┆          │\n",
       "└───────────┴───────────┴───────────┴───────────┴───┴───────────┴───────────┴───────────┴──────────┘"
      ]
     },
     "execution_count": 22,
     "metadata": {},
     "output_type": "execute_result"
    }
   ],
   "source": [
    "# chaining\n",
    "(autos\n",
    " [cols]\n",
    " .with_columns(pl.col('comb08').cast(pl.UInt8))\n",
    " .describe()\n",
    ")"
   ]
  },
  {
   "cell_type": "code",
   "execution_count": 23,
   "id": "b565d8fe-23ab-4925-9de8-2343de12cd06",
   "metadata": {},
   "outputs": [
    {
     "data": {
      "text/plain": [
       "iinfo(min=-32768, max=32767, dtype=int16)"
      ]
     },
     "execution_count": 23,
     "metadata": {},
     "output_type": "execute_result"
    }
   ],
   "source": [
    "np.iinfo(np.int16)"
   ]
  },
  {
   "cell_type": "code",
   "execution_count": 24,
   "id": "0e814968-ee3a-4479-9966-3e331ee84dcb",
   "metadata": {},
   "outputs": [
    {
     "data": {
      "text/plain": [
       "7114885"
      ]
     },
     "execution_count": 24,
     "metadata": {},
     "output_type": "execute_result"
    }
   ],
   "source": [
    "# chaining - cast applicable columns to int 8 and int16:\n",
    "(autos\n",
    " [cols]\n",
    " .with_columns(pl.col(['city08', 'comb08', 'highway08', 'cylinders', 'displ',]).cast(pl.UInt8))\n",
    " .with_columns(pl.col(['fuelCost08', 'range', 'year',]).cast(pl.UInt16))\n",
    " .estimated_size()\n",
    ")"
   ]
  },
  {
   "cell_type": "code",
   "execution_count": 40,
   "id": "299ba8ec-a98d-4a91-be07-88b253ab5075",
   "metadata": {},
   "outputs": [],
   "source": [
    "# 7.1 mb, was 9.3 mb"
   ]
  },
  {
   "cell_type": "markdown",
   "id": "14ee2e08-60e2-401b-876d-e4671ffd1fc8",
   "metadata": {},
   "source": [
    "# Strings"
   ]
  },
  {
   "cell_type": "code",
   "execution_count": 25,
   "id": "5bfca9cc-56fa-4bd3-92ee-e65741eee32a",
   "metadata": {},
   "outputs": [
    {
     "data": {
      "text/html": [
       "<div><style>\n",
       ".dataframe > thead > tr,\n",
       ".dataframe > tbody > tr {\n",
       "  text-align: right;\n",
       "  white-space: pre-wrap;\n",
       "}\n",
       "</style>\n",
       "<small>shape: (41_144, 6)</small><table border=\"1\" class=\"dataframe\"><thead><tr><th>drive</th><th>eng_dscr</th><th>make</th><th>model</th><th>trany</th><th>createdOn</th></tr><tr><td>str</td><td>str</td><td>str</td><td>str</td><td>str</td><td>str</td></tr></thead><tbody><tr><td>&quot;Rear-Wheel Dri…</td><td>&quot;(FFS)&quot;</td><td>&quot;Alfa Romeo&quot;</td><td>&quot;Spider Veloce …</td><td>&quot;Manual 5-spd&quot;</td><td>&quot;Tue Jan 01 00:…</td></tr><tr><td>&quot;Rear-Wheel Dri…</td><td>&quot;(GUZZLER)&quot;</td><td>&quot;Ferrari&quot;</td><td>&quot;Testarossa&quot;</td><td>&quot;Manual 5-spd&quot;</td><td>&quot;Tue Jan 01 00:…</td></tr><tr><td>&quot;Front-Wheel Dr…</td><td>&quot;(FFS)&quot;</td><td>&quot;Dodge&quot;</td><td>&quot;Charger&quot;</td><td>&quot;Manual 5-spd&quot;</td><td>&quot;Tue Jan 01 00:…</td></tr><tr><td>&quot;Rear-Wheel Dri…</td><td>null</td><td>&quot;Dodge&quot;</td><td>&quot;B150/B250 Wago…</td><td>&quot;Automatic 3-sp…</td><td>&quot;Tue Jan 01 00:…</td></tr><tr><td>&quot;4-Wheel or All…</td><td>&quot;(FFS,TRBO)&quot;</td><td>&quot;Subaru&quot;</td><td>&quot;Legacy AWD Tur…</td><td>&quot;Manual 5-spd&quot;</td><td>&quot;Tue Jan 01 00:…</td></tr><tr><td>&hellip;</td><td>&hellip;</td><td>&hellip;</td><td>&hellip;</td><td>&hellip;</td><td>&hellip;</td></tr><tr><td>&quot;Front-Wheel Dr…</td><td>&quot;(FFS)&quot;</td><td>&quot;Subaru&quot;</td><td>&quot;Legacy&quot;</td><td>&quot;Automatic 4-sp…</td><td>&quot;Tue Jan 01 00:…</td></tr><tr><td>&quot;Front-Wheel Dr…</td><td>&quot;(FFS)&quot;</td><td>&quot;Subaru&quot;</td><td>&quot;Legacy&quot;</td><td>&quot;Manual 5-spd&quot;</td><td>&quot;Tue Jan 01 00:…</td></tr><tr><td>&quot;4-Wheel or All…</td><td>&quot;(FFS)&quot;</td><td>&quot;Subaru&quot;</td><td>&quot;Legacy AWD&quot;</td><td>&quot;Automatic 4-sp…</td><td>&quot;Tue Jan 01 00:…</td></tr><tr><td>&quot;4-Wheel or All…</td><td>&quot;(FFS)&quot;</td><td>&quot;Subaru&quot;</td><td>&quot;Legacy AWD&quot;</td><td>&quot;Manual 5-spd&quot;</td><td>&quot;Tue Jan 01 00:…</td></tr><tr><td>&quot;4-Wheel or All…</td><td>&quot;(FFS,TRBO)&quot;</td><td>&quot;Subaru&quot;</td><td>&quot;Legacy AWD Tur…</td><td>&quot;Automatic 4-sp…</td><td>&quot;Tue Jan 01 00:…</td></tr></tbody></table></div>"
      ],
      "text/plain": [
       "shape: (41_144, 6)\n",
       "┌───────────────────┬────────────┬────────────┬───────────────────┬─────────────────┬──────────────┐\n",
       "│ drive             ┆ eng_dscr   ┆ make       ┆ model             ┆ trany           ┆ createdOn    │\n",
       "│ ---               ┆ ---        ┆ ---        ┆ ---               ┆ ---             ┆ ---          │\n",
       "│ str               ┆ str        ┆ str        ┆ str               ┆ str             ┆ str          │\n",
       "╞═══════════════════╪════════════╪════════════╪═══════════════════╪═════════════════╪══════════════╡\n",
       "│ Rear-Wheel Drive  ┆ (FFS)      ┆ Alfa Romeo ┆ Spider Veloce     ┆ Manual 5-spd    ┆ Tue Jan 01   │\n",
       "│                   ┆            ┆            ┆ 2000              ┆                 ┆ 00:00:00 EST │\n",
       "│                   ┆            ┆            ┆                   ┆                 ┆ 2013         │\n",
       "│ Rear-Wheel Drive  ┆ (GUZZLER)  ┆ Ferrari    ┆ Testarossa        ┆ Manual 5-spd    ┆ Tue Jan 01   │\n",
       "│                   ┆            ┆            ┆                   ┆                 ┆ 00:00:00 EST │\n",
       "│                   ┆            ┆            ┆                   ┆                 ┆ 2013         │\n",
       "│ Front-Wheel Drive ┆ (FFS)      ┆ Dodge      ┆ Charger           ┆ Manual 5-spd    ┆ Tue Jan 01   │\n",
       "│                   ┆            ┆            ┆                   ┆                 ┆ 00:00:00 EST │\n",
       "│                   ┆            ┆            ┆                   ┆                 ┆ 2013         │\n",
       "│ Rear-Wheel Drive  ┆ null       ┆ Dodge      ┆ B150/B250 Wagon   ┆ Automatic 3-spd ┆ Tue Jan 01   │\n",
       "│                   ┆            ┆            ┆ 2WD               ┆                 ┆ 00:00:00 EST │\n",
       "│                   ┆            ┆            ┆                   ┆                 ┆ 2013         │\n",
       "│ 4-Wheel or        ┆ (FFS,TRBO) ┆ Subaru     ┆ Legacy AWD Turbo  ┆ Manual 5-spd    ┆ Tue Jan 01   │\n",
       "│ All-Wheel Drive   ┆            ┆            ┆                   ┆                 ┆ 00:00:00 EST │\n",
       "│                   ┆            ┆            ┆                   ┆                 ┆ 2013         │\n",
       "│ …                 ┆ …          ┆ …          ┆ …                 ┆ …               ┆ …            │\n",
       "│ Front-Wheel Drive ┆ (FFS)      ┆ Subaru     ┆ Legacy            ┆ Automatic 4-spd ┆ Tue Jan 01   │\n",
       "│                   ┆            ┆            ┆                   ┆                 ┆ 00:00:00 EST │\n",
       "│                   ┆            ┆            ┆                   ┆                 ┆ 2013         │\n",
       "│ Front-Wheel Drive ┆ (FFS)      ┆ Subaru     ┆ Legacy            ┆ Manual 5-spd    ┆ Tue Jan 01   │\n",
       "│                   ┆            ┆            ┆                   ┆                 ┆ 00:00:00 EST │\n",
       "│                   ┆            ┆            ┆                   ┆                 ┆ 2013         │\n",
       "│ 4-Wheel or        ┆ (FFS)      ┆ Subaru     ┆ Legacy AWD        ┆ Automatic 4-spd ┆ Tue Jan 01   │\n",
       "│ All-Wheel Drive   ┆            ┆            ┆                   ┆                 ┆ 00:00:00 EST │\n",
       "│                   ┆            ┆            ┆                   ┆                 ┆ 2013         │\n",
       "│ 4-Wheel or        ┆ (FFS)      ┆ Subaru     ┆ Legacy AWD        ┆ Manual 5-spd    ┆ Tue Jan 01   │\n",
       "│ All-Wheel Drive   ┆            ┆            ┆                   ┆                 ┆ 00:00:00 EST │\n",
       "│                   ┆            ┆            ┆                   ┆                 ┆ 2013         │\n",
       "│ 4-Wheel or        ┆ (FFS,TRBO) ┆ Subaru     ┆ Legacy AWD Turbo  ┆ Automatic 4-spd ┆ Tue Jan 01   │\n",
       "│ All-Wheel Drive   ┆            ┆            ┆                   ┆                 ┆ 00:00:00 EST │\n",
       "│                   ┆            ┆            ┆                   ┆                 ┆ 2013         │\n",
       "└───────────────────┴────────────┴────────────┴───────────────────┴─────────────────┴──────────────┘"
      ]
     },
     "execution_count": 25,
     "metadata": {},
     "output_type": "execute_result"
    }
   ],
   "source": [
    "autos[cols].select(pl.col(pl.Utf8))"
   ]
  },
  {
   "cell_type": "code",
   "execution_count": 27,
   "id": "1c08d246-4423-420f-8ff7-979589e494ef",
   "metadata": {},
   "outputs": [
    {
     "data": {
      "text/plain": [
       "4721876"
      ]
     },
     "execution_count": 27,
     "metadata": {},
     "output_type": "execute_result"
    }
   ],
   "source": [
    "# chaining - cast applicable str columns to Categorical data type\n",
    "(autos\n",
    " [cols]\n",
    " .with_columns(pl.col(['city08', 'comb08', 'highway08', 'cylinders', 'displ',]).cast(pl.UInt8))\n",
    " .with_columns(pl.col(['fuelCost08', 'range', 'year',]).cast(pl.UInt16))\n",
    " .with_columns(pl.col(['drive', 'make', 'model',]).cast(pl.Categorical))\n",
    " .estimated_size()\n",
    ")"
   ]
  },
  {
   "cell_type": "code",
   "execution_count": 45,
   "id": "d63d68da-7275-496a-a3c8-dfa8558fff36",
   "metadata": {},
   "outputs": [],
   "source": [
    "# converting drive, make, and model to categoricals reduced size further to 4.7 mb"
   ]
  },
  {
   "cell_type": "markdown",
   "id": "ac77a225-e07e-48eb-9e98-54958e754823",
   "metadata": {},
   "source": [
    "# Extract FFS, Speed, and Manual"
   ]
  },
  {
   "cell_type": "code",
   "execution_count": 44,
   "id": "48449bc6-32f0-4c17-a80f-3df1a1e8fe8c",
   "metadata": {},
   "outputs": [
    {
     "data": {
      "text/html": [
       "<div><style>\n",
       ".dataframe > thead > tr,\n",
       ".dataframe > tbody > tr {\n",
       "  text-align: right;\n",
       "  white-space: pre-wrap;\n",
       "}\n",
       "</style>\n",
       "<small>shape: (41_144, 3)</small><table border=\"1\" class=\"dataframe\"><thead><tr><th>eng_dscr</th><th>trany</th><th>createdOn</th></tr><tr><td>str</td><td>str</td><td>str</td></tr></thead><tbody><tr><td>&quot;(FFS)&quot;</td><td>&quot;Manual 5-spd&quot;</td><td>&quot;Tue Jan 01 00:…</td></tr><tr><td>&quot;(GUZZLER)&quot;</td><td>&quot;Manual 5-spd&quot;</td><td>&quot;Tue Jan 01 00:…</td></tr><tr><td>&quot;(FFS)&quot;</td><td>&quot;Manual 5-spd&quot;</td><td>&quot;Tue Jan 01 00:…</td></tr><tr><td>null</td><td>&quot;Automatic 3-sp…</td><td>&quot;Tue Jan 01 00:…</td></tr><tr><td>&quot;(FFS,TRBO)&quot;</td><td>&quot;Manual 5-spd&quot;</td><td>&quot;Tue Jan 01 00:…</td></tr><tr><td>&hellip;</td><td>&hellip;</td><td>&hellip;</td></tr><tr><td>&quot;(FFS)&quot;</td><td>&quot;Automatic 4-sp…</td><td>&quot;Tue Jan 01 00:…</td></tr><tr><td>&quot;(FFS)&quot;</td><td>&quot;Manual 5-spd&quot;</td><td>&quot;Tue Jan 01 00:…</td></tr><tr><td>&quot;(FFS)&quot;</td><td>&quot;Automatic 4-sp…</td><td>&quot;Tue Jan 01 00:…</td></tr><tr><td>&quot;(FFS)&quot;</td><td>&quot;Manual 5-spd&quot;</td><td>&quot;Tue Jan 01 00:…</td></tr><tr><td>&quot;(FFS,TRBO)&quot;</td><td>&quot;Automatic 4-sp…</td><td>&quot;Tue Jan 01 00:…</td></tr></tbody></table></div>"
      ],
      "text/plain": [
       "shape: (41_144, 3)\n",
       "┌────────────┬─────────────────┬──────────────────────────────┐\n",
       "│ eng_dscr   ┆ trany           ┆ createdOn                    │\n",
       "│ ---        ┆ ---             ┆ ---                          │\n",
       "│ str        ┆ str             ┆ str                          │\n",
       "╞════════════╪═════════════════╪══════════════════════════════╡\n",
       "│ (FFS)      ┆ Manual 5-spd    ┆ Tue Jan 01 00:00:00 EST 2013 │\n",
       "│ (GUZZLER)  ┆ Manual 5-spd    ┆ Tue Jan 01 00:00:00 EST 2013 │\n",
       "│ (FFS)      ┆ Manual 5-spd    ┆ Tue Jan 01 00:00:00 EST 2013 │\n",
       "│ null       ┆ Automatic 3-spd ┆ Tue Jan 01 00:00:00 EST 2013 │\n",
       "│ (FFS,TRBO) ┆ Manual 5-spd    ┆ Tue Jan 01 00:00:00 EST 2013 │\n",
       "│ …          ┆ …               ┆ …                            │\n",
       "│ (FFS)      ┆ Automatic 4-spd ┆ Tue Jan 01 00:00:00 EST 2013 │\n",
       "│ (FFS)      ┆ Manual 5-spd    ┆ Tue Jan 01 00:00:00 EST 2013 │\n",
       "│ (FFS)      ┆ Automatic 4-spd ┆ Tue Jan 01 00:00:00 EST 2013 │\n",
       "│ (FFS)      ┆ Manual 5-spd    ┆ Tue Jan 01 00:00:00 EST 2013 │\n",
       "│ (FFS,TRBO) ┆ Automatic 4-spd ┆ Tue Jan 01 00:00:00 EST 2013 │\n",
       "└────────────┴─────────────────┴──────────────────────────────┘"
      ]
     },
     "execution_count": 44,
     "metadata": {},
     "output_type": "execute_result"
    }
   ],
   "source": [
    "# chaining\n",
    "(autos\n",
    " [cols]\n",
    " .with_columns(pl.col(['city08', 'comb08', 'highway08', 'cylinders', 'displ',]).cast(pl.UInt8))\n",
    " .with_columns(pl.col(['fuelCost08', 'range', 'year',]).cast(pl.UInt16))\n",
    " .with_columns(pl.col(['drive', 'make', 'model',]).cast(pl.Categorical))\n",
    " .select(pl.col(pl.Utf8))\n",
    ")"
   ]
  },
  {
   "cell_type": "code",
   "execution_count": 71,
   "id": "6c265829-7fe2-4fec-947e-da069c7747c7",
   "metadata": {},
   "outputs": [],
   "source": [
    "# check api reference info using ?\n",
    "col = pl.col('test')"
   ]
  },
  {
   "cell_type": "code",
   "execution_count": null,
   "id": "07dee7be-6ea2-4bea-a237-f5e8d13c75be",
   "metadata": {},
   "outputs": [],
   "source": [
    "# check api reference info using ?\n",
    "col.str.extract?"
   ]
  },
  {
   "cell_type": "code",
   "execution_count": 95,
   "id": "e7ec3c11-d82b-43ee-9520-ee0d805d132e",
   "metadata": {},
   "outputs": [
    {
     "data": {
      "text/html": [
       "<div><style>\n",
       ".dataframe > thead > tr,\n",
       ".dataframe > tbody > tr {\n",
       "  text-align: right;\n",
       "  white-space: pre-wrap;\n",
       "}\n",
       "</style>\n",
       "<small>shape: (41_144, 17)</small><table border=\"1\" class=\"dataframe\"><thead><tr><th>city08</th><th>comb08</th><th>highway08</th><th>cylinders</th><th>displ</th><th>drive</th><th>eng_dscr</th><th>fuelCost08</th><th>make</th><th>model</th><th>trany</th><th>range</th><th>createdOn</th><th>year</th><th>FFS</th><th>speeds</th><th>manual</th></tr><tr><td>u8</td><td>u8</td><td>u8</td><td>u8</td><td>u8</td><td>cat</td><td>str</td><td>u16</td><td>cat</td><td>cat</td><td>str</td><td>u16</td><td>str</td><td>u16</td><td>bool</td><td>u8</td><td>bool</td></tr></thead><tbody><tr><td>19</td><td>21</td><td>25</td><td>4</td><td>2</td><td>&quot;Rear-Wheel Dri…</td><td>&quot;(FFS)&quot;</td><td>2000</td><td>&quot;Alfa Romeo&quot;</td><td>&quot;Spider Veloce …</td><td>&quot;Manual 5-spd&quot;</td><td>0</td><td>&quot;Tue Jan 01 00:…</td><td>1985</td><td>true</td><td>5</td><td>true</td></tr><tr><td>9</td><td>11</td><td>14</td><td>12</td><td>4</td><td>&quot;Rear-Wheel Dri…</td><td>&quot;(GUZZLER)&quot;</td><td>3850</td><td>&quot;Ferrari&quot;</td><td>&quot;Testarossa&quot;</td><td>&quot;Manual 5-spd&quot;</td><td>0</td><td>&quot;Tue Jan 01 00:…</td><td>1985</td><td>false</td><td>5</td><td>true</td></tr><tr><td>23</td><td>27</td><td>33</td><td>4</td><td>2</td><td>&quot;Front-Wheel Dr…</td><td>&quot;(FFS)&quot;</td><td>1550</td><td>&quot;Dodge&quot;</td><td>&quot;Charger&quot;</td><td>&quot;Manual 5-spd&quot;</td><td>0</td><td>&quot;Tue Jan 01 00:…</td><td>1985</td><td>true</td><td>5</td><td>true</td></tr><tr><td>10</td><td>11</td><td>12</td><td>8</td><td>5</td><td>&quot;Rear-Wheel Dri…</td><td>null</td><td>3850</td><td>&quot;Dodge&quot;</td><td>&quot;B150/B250 Wago…</td><td>&quot;Automatic 3-sp…</td><td>0</td><td>&quot;Tue Jan 01 00:…</td><td>1985</td><td>null</td><td>3</td><td>false</td></tr><tr><td>17</td><td>19</td><td>23</td><td>4</td><td>2</td><td>&quot;4-Wheel or All…</td><td>&quot;(FFS,TRBO)&quot;</td><td>2700</td><td>&quot;Subaru&quot;</td><td>&quot;Legacy AWD Tur…</td><td>&quot;Manual 5-spd&quot;</td><td>0</td><td>&quot;Tue Jan 01 00:…</td><td>1993</td><td>true</td><td>5</td><td>true</td></tr><tr><td>&hellip;</td><td>&hellip;</td><td>&hellip;</td><td>&hellip;</td><td>&hellip;</td><td>&hellip;</td><td>&hellip;</td><td>&hellip;</td><td>&hellip;</td><td>&hellip;</td><td>&hellip;</td><td>&hellip;</td><td>&hellip;</td><td>&hellip;</td><td>&hellip;</td><td>&hellip;</td><td>&hellip;</td></tr><tr><td>19</td><td>22</td><td>26</td><td>4</td><td>2</td><td>&quot;Front-Wheel Dr…</td><td>&quot;(FFS)&quot;</td><td>1900</td><td>&quot;Subaru&quot;</td><td>&quot;Legacy&quot;</td><td>&quot;Automatic 4-sp…</td><td>0</td><td>&quot;Tue Jan 01 00:…</td><td>1993</td><td>true</td><td>4</td><td>false</td></tr><tr><td>20</td><td>23</td><td>28</td><td>4</td><td>2</td><td>&quot;Front-Wheel Dr…</td><td>&quot;(FFS)&quot;</td><td>1850</td><td>&quot;Subaru&quot;</td><td>&quot;Legacy&quot;</td><td>&quot;Manual 5-spd&quot;</td><td>0</td><td>&quot;Tue Jan 01 00:…</td><td>1993</td><td>true</td><td>5</td><td>true</td></tr><tr><td>18</td><td>21</td><td>24</td><td>4</td><td>2</td><td>&quot;4-Wheel or All…</td><td>&quot;(FFS)&quot;</td><td>2000</td><td>&quot;Subaru&quot;</td><td>&quot;Legacy AWD&quot;</td><td>&quot;Automatic 4-sp…</td><td>0</td><td>&quot;Tue Jan 01 00:…</td><td>1993</td><td>true</td><td>4</td><td>false</td></tr><tr><td>18</td><td>21</td><td>24</td><td>4</td><td>2</td><td>&quot;4-Wheel or All…</td><td>&quot;(FFS)&quot;</td><td>2000</td><td>&quot;Subaru&quot;</td><td>&quot;Legacy AWD&quot;</td><td>&quot;Manual 5-spd&quot;</td><td>0</td><td>&quot;Tue Jan 01 00:…</td><td>1993</td><td>true</td><td>5</td><td>true</td></tr><tr><td>16</td><td>18</td><td>21</td><td>4</td><td>2</td><td>&quot;4-Wheel or All…</td><td>&quot;(FFS,TRBO)&quot;</td><td>2900</td><td>&quot;Subaru&quot;</td><td>&quot;Legacy AWD Tur…</td><td>&quot;Automatic 4-sp…</td><td>0</td><td>&quot;Tue Jan 01 00:…</td><td>1993</td><td>true</td><td>4</td><td>false</td></tr></tbody></table></div>"
      ],
      "text/plain": [
       "shape: (41_144, 17)\n",
       "┌────────┬────────┬───────────┬───────────┬───┬──────┬───────┬────────┬────────┐\n",
       "│ city08 ┆ comb08 ┆ highway08 ┆ cylinders ┆ … ┆ year ┆ FFS   ┆ speeds ┆ manual │\n",
       "│ ---    ┆ ---    ┆ ---       ┆ ---       ┆   ┆ ---  ┆ ---   ┆ ---    ┆ ---    │\n",
       "│ u8     ┆ u8     ┆ u8        ┆ u8        ┆   ┆ u16  ┆ bool  ┆ u8     ┆ bool   │\n",
       "╞════════╪════════╪═══════════╪═══════════╪═══╪══════╪═══════╪════════╪════════╡\n",
       "│ 19     ┆ 21     ┆ 25        ┆ 4         ┆ … ┆ 1985 ┆ true  ┆ 5      ┆ true   │\n",
       "│ 9      ┆ 11     ┆ 14        ┆ 12        ┆ … ┆ 1985 ┆ false ┆ 5      ┆ true   │\n",
       "│ 23     ┆ 27     ┆ 33        ┆ 4         ┆ … ┆ 1985 ┆ true  ┆ 5      ┆ true   │\n",
       "│ 10     ┆ 11     ┆ 12        ┆ 8         ┆ … ┆ 1985 ┆ null  ┆ 3      ┆ false  │\n",
       "│ 17     ┆ 19     ┆ 23        ┆ 4         ┆ … ┆ 1993 ┆ true  ┆ 5      ┆ true   │\n",
       "│ …      ┆ …      ┆ …         ┆ …         ┆ … ┆ …    ┆ …     ┆ …      ┆ …      │\n",
       "│ 19     ┆ 22     ┆ 26        ┆ 4         ┆ … ┆ 1993 ┆ true  ┆ 4      ┆ false  │\n",
       "│ 20     ┆ 23     ┆ 28        ┆ 4         ┆ … ┆ 1993 ┆ true  ┆ 5      ┆ true   │\n",
       "│ 18     ┆ 21     ┆ 24        ┆ 4         ┆ … ┆ 1993 ┆ true  ┆ 4      ┆ false  │\n",
       "│ 18     ┆ 21     ┆ 24        ┆ 4         ┆ … ┆ 1993 ┆ true  ┆ 5      ┆ true   │\n",
       "│ 16     ┆ 18     ┆ 21        ┆ 4         ┆ … ┆ 1993 ┆ true  ┆ 4      ┆ false  │\n",
       "└────────┴────────┴───────────┴───────────┴───┴──────┴───────┴────────┴────────┘"
      ]
     },
     "execution_count": 95,
     "metadata": {},
     "output_type": "execute_result"
    }
   ],
   "source": [
    "(autos\n",
    " [cols]\n",
    " .with_columns([\n",
    "     pl.col(['city08', 'comb08', 'highway08', 'cylinders', 'displ',]).cast(pl.UInt8),\n",
    "     pl.col(['fuelCost08', 'range', 'year',]).cast(pl.UInt16),\n",
    "     pl.col(['drive', 'make', 'model',]).cast(pl.Categorical),\n",
    "     pl.col('eng_dscr').str.contains('FFS').alias('FFS'),\n",
    "     pl.col('trany').str.extract(r'(\\d+)').cast(pl.UInt8).alias('speeds'),\n",
    "     pl.col('trany').str.contains('Manual').alias('manual'),\n",
    "     ],\n",
    " )\n",
    ")"
   ]
  },
  {
   "cell_type": "code",
   "execution_count": 96,
   "id": "c8be0a96-6d88-4a6c-a07d-a8980013ccc7",
   "metadata": {},
   "outputs": [
    {
     "name": "stdout",
     "output_type": "stream",
     "text": [
      "['city08', 'comb08', 'highway08', 'cylinders', 'displ', 'drive', 'eng_dscr', 'fuelCost08', 'make', 'model', 'trany', 'range', 'createdOn', 'year', 'FFS', 'speeds', 'manual']\n"
     ]
    }
   ],
   "source": [
    "print(autos\n",
    "[cols]\n",
    " .with_columns([\n",
    "     pl.col(['city08', 'comb08', 'highway08', 'cylinders', 'displ',]).cast(pl.UInt8),\n",
    "     pl.col(['fuelCost08', 'range', 'year',]).cast(pl.UInt16),\n",
    "     pl.col(['drive', 'make', 'model',]).cast(pl.Categorical),\n",
    "     pl.col('eng_dscr').str.contains('FFS').alias('FFS'),\n",
    "     pl.col('trany').str.extract(r'(\\d+)').cast(pl.UInt8).alias('speeds'),\n",
    "     pl.col('trany').str.contains('Manual').alias('manual'),\n",
    "     ],\n",
    " )\n",
    ".columns\n",
    ")"
   ]
  },
  {
   "cell_type": "code",
   "execution_count": 98,
   "id": "22e1989a-8366-4e76-8213-6fd78896976d",
   "metadata": {},
   "outputs": [
    {
     "data": {
      "text/plain": [
       "2935860"
      ]
     },
     "execution_count": 98,
     "metadata": {},
     "output_type": "execute_result"
    }
   ],
   "source": [
    "# remove trany and eng_dscr\n",
    "(autos\n",
    " .with_columns([\n",
    "     pl.col(['city08', 'comb08', 'highway08', 'cylinders', 'displ',]).cast(pl.UInt8),\n",
    "     pl.col(['fuelCost08', 'range', 'year',]).cast(pl.UInt16),\n",
    "     pl.col(['drive', 'make', 'model',]).cast(pl.Categorical),\n",
    "     pl.col('eng_dscr').str.contains('FFS').alias('FFS'),\n",
    "     pl.col('trany').str.extract(r'(\\d+)').cast(pl.UInt8).alias('speeds'),\n",
    "     pl.col('trany').str.contains('Manual').alias('manual'),\n",
    "     ],\n",
    " )\n",
    ".select(pl.col(['city08', 'comb08', 'highway08', 'cylinders', 'displ', 'drive', 'fuelCost08', 'make', 'model', 'range', 'createdOn', 'year', 'FFS', 'speeds', 'manual']))\n",
    ".estimated_size()\n",
    ")"
   ]
  },
  {
   "cell_type": "code",
   "execution_count": 85,
   "id": "56424c91-534a-4c3f-8b98-a72f5f2b1452",
   "metadata": {},
   "outputs": [],
   "source": [
    "# now 2.9 mb"
   ]
  },
  {
   "cell_type": "code",
   "execution_count": 99,
   "id": "73f89226-e1ec-4c24-b185-8b430f7b504a",
   "metadata": {},
   "outputs": [
    {
     "data": {
      "text/html": [
       "<div><style>\n",
       ".dataframe > thead > tr,\n",
       ".dataframe > tbody > tr {\n",
       "  text-align: right;\n",
       "  white-space: pre-wrap;\n",
       "}\n",
       "</style>\n",
       "<small>shape: (1_189, 15)</small><table border=\"1\" class=\"dataframe\"><thead><tr><th>city08</th><th>comb08</th><th>highway08</th><th>cylinders</th><th>displ</th><th>drive</th><th>fuelCost08</th><th>make</th><th>model</th><th>range</th><th>createdOn</th><th>year</th><th>FFS</th><th>speeds</th><th>manual</th></tr><tr><td>u8</td><td>u8</td><td>u8</td><td>u8</td><td>u8</td><td>cat</td><td>u16</td><td>cat</td><td>cat</td><td>u16</td><td>str</td><td>u16</td><td>bool</td><td>u8</td><td>bool</td></tr></thead><tbody><tr><td>81</td><td>85</td><td>91</td><td>null</td><td>null</td><td>null</td><td>800</td><td>&quot;Nissan&quot;</td><td>&quot;Altra EV&quot;</td><td>90</td><td>&quot;Tue Jan 01 00:…</td><td>2000</td><td>null</td><td>null</td><td>null</td></tr><tr><td>74</td><td>65</td><td>58</td><td>null</td><td>null</td><td>null</td><td>1000</td><td>&quot;Ford&quot;</td><td>&quot;Th!nk&quot;</td><td>29</td><td>&quot;Tue Jan 01 00:…</td><td>2001</td><td>null</td><td>null</td><td>null</td></tr><tr><td>84</td><td>75</td><td>66</td><td>null</td><td>null</td><td>null</td><td>900</td><td>&quot;Nissan&quot;</td><td>&quot;Hyper-Mini&quot;</td><td>33</td><td>&quot;Tue Jan 01 00:…</td><td>2001</td><td>null</td><td>null</td><td>null</td></tr><tr><td>18</td><td>21</td><td>25</td><td>4</td><td>2</td><td>null</td><td>2000</td><td>&quot;Alfa Romeo&quot;</td><td>&quot;Spider Veloce …</td><td>0</td><td>&quot;Tue Jan 01 00:…</td><td>1984</td><td>true</td><td>5</td><td>true</td></tr><tr><td>20</td><td>22</td><td>26</td><td>4</td><td>1</td><td>null</td><td>1900</td><td>&quot;Bertone&quot;</td><td>&quot;X1/9&quot;</td><td>0</td><td>&quot;Tue Jan 01 00:…</td><td>1984</td><td>true</td><td>5</td><td>true</td></tr><tr><td>&hellip;</td><td>&hellip;</td><td>&hellip;</td><td>&hellip;</td><td>&hellip;</td><td>&hellip;</td><td>&hellip;</td><td>&hellip;</td><td>&hellip;</td><td>&hellip;</td><td>&hellip;</td><td>&hellip;</td><td>&hellip;</td><td>&hellip;</td><td>&hellip;</td></tr><tr><td>79</td><td>85</td><td>94</td><td>null</td><td>null</td><td>null</td><td>800</td><td>&quot;GMC&quot;</td><td>&quot;EV1&quot;</td><td>55</td><td>&quot;Tue Jan 01 00:…</td><td>1999</td><td>false</td><td>1</td><td>false</td></tr><tr><td>35</td><td>37</td><td>39</td><td>null</td><td>null</td><td>null</td><td>1750</td><td>&quot;GMC&quot;</td><td>&quot;EV1&quot;</td><td>105</td><td>&quot;Tue Jan 01 00:…</td><td>1999</td><td>false</td><td>1</td><td>false</td></tr><tr><td>49</td><td>48</td><td>46</td><td>null</td><td>null</td><td>null</td><td>1400</td><td>&quot;Honda&quot;</td><td>&quot;EV Plus&quot;</td><td>81</td><td>&quot;Tue Jan 01 00:…</td><td>1999</td><td>null</td><td>1</td><td>false</td></tr><tr><td>49</td><td>48</td><td>46</td><td>null</td><td>null</td><td>null</td><td>1400</td><td>&quot;Honda&quot;</td><td>&quot;EV Plus&quot;</td><td>81</td><td>&quot;Tue Jan 01 00:…</td><td>1998</td><td>null</td><td>1</td><td>false</td></tr><tr><td>102</td><td>98</td><td>94</td><td>null</td><td>null</td><td>null</td><td>650</td><td>&quot;MINI&quot;</td><td>&quot;MiniE&quot;</td><td>100</td><td>&quot;Tue Jan 01 00:…</td><td>2008</td><td>null</td><td>1</td><td>false</td></tr></tbody></table></div>"
      ],
      "text/plain": [
       "shape: (1_189, 15)\n",
       "┌────────┬────────┬───────────┬───────────┬───┬──────┬───────┬────────┬────────┐\n",
       "│ city08 ┆ comb08 ┆ highway08 ┆ cylinders ┆ … ┆ year ┆ FFS   ┆ speeds ┆ manual │\n",
       "│ ---    ┆ ---    ┆ ---       ┆ ---       ┆   ┆ ---  ┆ ---   ┆ ---    ┆ ---    │\n",
       "│ u8     ┆ u8     ┆ u8        ┆ u8        ┆   ┆ u16  ┆ bool  ┆ u8     ┆ bool   │\n",
       "╞════════╪════════╪═══════════╪═══════════╪═══╪══════╪═══════╪════════╪════════╡\n",
       "│ 81     ┆ 85     ┆ 91        ┆ null      ┆ … ┆ 2000 ┆ null  ┆ null   ┆ null   │\n",
       "│ 74     ┆ 65     ┆ 58        ┆ null      ┆ … ┆ 2001 ┆ null  ┆ null   ┆ null   │\n",
       "│ 84     ┆ 75     ┆ 66        ┆ null      ┆ … ┆ 2001 ┆ null  ┆ null   ┆ null   │\n",
       "│ 18     ┆ 21     ┆ 25        ┆ 4         ┆ … ┆ 1984 ┆ true  ┆ 5      ┆ true   │\n",
       "│ 20     ┆ 22     ┆ 26        ┆ 4         ┆ … ┆ 1984 ┆ true  ┆ 5      ┆ true   │\n",
       "│ …      ┆ …      ┆ …         ┆ …         ┆ … ┆ …    ┆ …     ┆ …      ┆ …      │\n",
       "│ 79     ┆ 85     ┆ 94        ┆ null      ┆ … ┆ 1999 ┆ false ┆ 1      ┆ false  │\n",
       "│ 35     ┆ 37     ┆ 39        ┆ null      ┆ … ┆ 1999 ┆ false ┆ 1      ┆ false  │\n",
       "│ 49     ┆ 48     ┆ 46        ┆ null      ┆ … ┆ 1999 ┆ null  ┆ 1      ┆ false  │\n",
       "│ 49     ┆ 48     ┆ 46        ┆ null      ┆ … ┆ 1998 ┆ null  ┆ 1      ┆ false  │\n",
       "│ 102    ┆ 98     ┆ 94        ┆ null      ┆ … ┆ 2008 ┆ null  ┆ 1      ┆ false  │\n",
       "└────────┴────────┴───────────┴───────────┴───┴──────┴───────┴────────┴────────┘"
      ]
     },
     "execution_count": 99,
     "metadata": {},
     "output_type": "execute_result"
    }
   ],
   "source": [
    "# where are the values missing for drive?\n",
    "(autos\n",
    " .with_columns([\n",
    "     pl.col(['city08', 'comb08', 'highway08', 'cylinders', 'displ',]).cast(pl.UInt8),\n",
    "     pl.col(['fuelCost08', 'range', 'year',]).cast(pl.UInt16),\n",
    "     pl.col(['drive', 'make', 'model',]).cast(pl.Categorical),\n",
    "     pl.col('eng_dscr').str.contains('FFS').alias('FFS'),\n",
    "     pl.col('trany').str.extract(r'(\\d+)').cast(pl.UInt8).alias('speeds'),\n",
    "     pl.col('trany').str.contains('Manual').alias('manual'),\n",
    "     ],\n",
    " )\n",
    ".select(pl.col(['city08', 'comb08', 'highway08', 'cylinders', 'displ', 'drive', 'fuelCost08', 'make', 'model', 'range', 'createdOn', 'year', 'FFS', 'speeds', 'manual']))\n",
    ".filter(pl.col('drive').is_null())\n",
    ")"
   ]
  },
  {
   "cell_type": "code",
   "execution_count": 92,
   "id": "9058ee14-d49f-42da-9901-e22ab28c53a8",
   "metadata": {},
   "outputs": [
    {
     "data": {
      "text/html": [
       "<div><style>\n",
       ".dataframe > thead > tr,\n",
       ".dataframe > tbody > tr {\n",
       "  text-align: right;\n",
       "  white-space: pre-wrap;\n",
       "}\n",
       "</style>\n",
       "<small>shape: (41_144, 15)</small><table border=\"1\" class=\"dataframe\"><thead><tr><th>city08</th><th>comb08</th><th>highway08</th><th>cylinders</th><th>displ</th><th>drive</th><th>fuelCost08</th><th>make</th><th>model</th><th>range</th><th>createdOn</th><th>year</th><th>FFS</th><th>Speeds</th><th>Manual</th></tr><tr><td>u8</td><td>u8</td><td>u8</td><td>u8</td><td>u8</td><td>cat</td><td>u16</td><td>cat</td><td>cat</td><td>u16</td><td>str</td><td>u16</td><td>bool</td><td>u8</td><td>bool</td></tr></thead><tbody><tr><td>19</td><td>21</td><td>25</td><td>4</td><td>2</td><td>&quot;Rear-Wheel Dri…</td><td>2000</td><td>&quot;Alfa Romeo&quot;</td><td>&quot;Spider Veloce …</td><td>0</td><td>&quot;Tue Jan 01 00:…</td><td>1985</td><td>true</td><td>5</td><td>true</td></tr><tr><td>9</td><td>11</td><td>14</td><td>12</td><td>4</td><td>&quot;Rear-Wheel Dri…</td><td>3850</td><td>&quot;Ferrari&quot;</td><td>&quot;Testarossa&quot;</td><td>0</td><td>&quot;Tue Jan 01 00:…</td><td>1985</td><td>false</td><td>5</td><td>true</td></tr><tr><td>23</td><td>27</td><td>33</td><td>4</td><td>2</td><td>&quot;Front-Wheel Dr…</td><td>1550</td><td>&quot;Dodge&quot;</td><td>&quot;Charger&quot;</td><td>0</td><td>&quot;Tue Jan 01 00:…</td><td>1985</td><td>true</td><td>5</td><td>true</td></tr><tr><td>10</td><td>11</td><td>12</td><td>8</td><td>5</td><td>&quot;Rear-Wheel Dri…</td><td>3850</td><td>&quot;Dodge&quot;</td><td>&quot;B150/B250 Wago…</td><td>0</td><td>&quot;Tue Jan 01 00:…</td><td>1985</td><td>null</td><td>3</td><td>false</td></tr><tr><td>17</td><td>19</td><td>23</td><td>4</td><td>2</td><td>&quot;4-Wheel or All…</td><td>2700</td><td>&quot;Subaru&quot;</td><td>&quot;Legacy AWD Tur…</td><td>0</td><td>&quot;Tue Jan 01 00:…</td><td>1993</td><td>true</td><td>5</td><td>true</td></tr><tr><td>&hellip;</td><td>&hellip;</td><td>&hellip;</td><td>&hellip;</td><td>&hellip;</td><td>&hellip;</td><td>&hellip;</td><td>&hellip;</td><td>&hellip;</td><td>&hellip;</td><td>&hellip;</td><td>&hellip;</td><td>&hellip;</td><td>&hellip;</td><td>&hellip;</td></tr><tr><td>19</td><td>22</td><td>26</td><td>4</td><td>2</td><td>&quot;Front-Wheel Dr…</td><td>1900</td><td>&quot;Subaru&quot;</td><td>&quot;Legacy&quot;</td><td>0</td><td>&quot;Tue Jan 01 00:…</td><td>1993</td><td>true</td><td>4</td><td>false</td></tr><tr><td>20</td><td>23</td><td>28</td><td>4</td><td>2</td><td>&quot;Front-Wheel Dr…</td><td>1850</td><td>&quot;Subaru&quot;</td><td>&quot;Legacy&quot;</td><td>0</td><td>&quot;Tue Jan 01 00:…</td><td>1993</td><td>true</td><td>5</td><td>true</td></tr><tr><td>18</td><td>21</td><td>24</td><td>4</td><td>2</td><td>&quot;4-Wheel or All…</td><td>2000</td><td>&quot;Subaru&quot;</td><td>&quot;Legacy AWD&quot;</td><td>0</td><td>&quot;Tue Jan 01 00:…</td><td>1993</td><td>true</td><td>4</td><td>false</td></tr><tr><td>18</td><td>21</td><td>24</td><td>4</td><td>2</td><td>&quot;4-Wheel or All…</td><td>2000</td><td>&quot;Subaru&quot;</td><td>&quot;Legacy AWD&quot;</td><td>0</td><td>&quot;Tue Jan 01 00:…</td><td>1993</td><td>true</td><td>5</td><td>true</td></tr><tr><td>16</td><td>18</td><td>21</td><td>4</td><td>2</td><td>&quot;4-Wheel or All…</td><td>2900</td><td>&quot;Subaru&quot;</td><td>&quot;Legacy AWD Tur…</td><td>0</td><td>&quot;Tue Jan 01 00:…</td><td>1993</td><td>true</td><td>4</td><td>false</td></tr></tbody></table></div>"
      ],
      "text/plain": [
       "shape: (41_144, 15)\n",
       "┌────────┬────────┬───────────┬───────────┬───┬──────┬───────┬────────┬────────┐\n",
       "│ city08 ┆ comb08 ┆ highway08 ┆ cylinders ┆ … ┆ year ┆ FFS   ┆ Speeds ┆ Manual │\n",
       "│ ---    ┆ ---    ┆ ---       ┆ ---       ┆   ┆ ---  ┆ ---   ┆ ---    ┆ ---    │\n",
       "│ u8     ┆ u8     ┆ u8        ┆ u8        ┆   ┆ u16  ┆ bool  ┆ u8     ┆ bool   │\n",
       "╞════════╪════════╪═══════════╪═══════════╪═══╪══════╪═══════╪════════╪════════╡\n",
       "│ 19     ┆ 21     ┆ 25        ┆ 4         ┆ … ┆ 1985 ┆ true  ┆ 5      ┆ true   │\n",
       "│ 9      ┆ 11     ┆ 14        ┆ 12        ┆ … ┆ 1985 ┆ false ┆ 5      ┆ true   │\n",
       "│ 23     ┆ 27     ┆ 33        ┆ 4         ┆ … ┆ 1985 ┆ true  ┆ 5      ┆ true   │\n",
       "│ 10     ┆ 11     ┆ 12        ┆ 8         ┆ … ┆ 1985 ┆ null  ┆ 3      ┆ false  │\n",
       "│ 17     ┆ 19     ┆ 23        ┆ 4         ┆ … ┆ 1993 ┆ true  ┆ 5      ┆ true   │\n",
       "│ …      ┆ …      ┆ …         ┆ …         ┆ … ┆ …    ┆ …     ┆ …      ┆ …      │\n",
       "│ 19     ┆ 22     ┆ 26        ┆ 4         ┆ … ┆ 1993 ┆ true  ┆ 4      ┆ false  │\n",
       "│ 20     ┆ 23     ┆ 28        ┆ 4         ┆ … ┆ 1993 ┆ true  ┆ 5      ┆ true   │\n",
       "│ 18     ┆ 21     ┆ 24        ┆ 4         ┆ … ┆ 1993 ┆ true  ┆ 4      ┆ false  │\n",
       "│ 18     ┆ 21     ┆ 24        ┆ 4         ┆ … ┆ 1993 ┆ true  ┆ 5      ┆ true   │\n",
       "│ 16     ┆ 18     ┆ 21        ┆ 4         ┆ … ┆ 1993 ┆ true  ┆ 4      ┆ false  │\n",
       "└────────┴────────┴───────────┴───────────┴───┴──────┴───────┴────────┴────────┘"
      ]
     },
     "execution_count": 92,
     "metadata": {},
     "output_type": "execute_result"
    }
   ],
   "source": [
    "# fill in missing values with other\n",
    "(autos\n",
    " .with_columns([\n",
    "     pl.col(['city08', 'comb08', 'highway08', 'cylinders', 'displ',]).cast(pl.UInt8),\n",
    "     pl.col(['fuelCost08', 'range', 'year',]).cast(pl.UInt16),\n",
    "     pl.col(['make', 'model',]).cast(pl.Categorical),\n",
    "     pl.col('drive').fill_null('other').cast(pl.Categorical),\n",
    "     pl.col('eng_dscr').str.contains('FFS').alias('FFS'),\n",
    "     pl.col('trany').str.extract(r'(\\d+)').cast(pl.UInt8).alias('Speeds'),\n",
    "     pl.col('trany').str.contains('Manual').alias('Manual'),\n",
    "     ],\n",
    " )\n",
    ".select(pl.col(['city08', 'comb08', 'highway08', 'cylinders', 'displ', 'drive', 'fuelCost08', 'make', 'model', 'range', 'createdOn', 'year', 'FFS', 'Speeds', 'Manual']))\n",
    ")"
   ]
  },
  {
   "cell_type": "code",
   "execution_count": 114,
   "id": "f846c292-c2b2-4816-8916-a3437e12e01c",
   "metadata": {},
   "outputs": [
    {
     "data": {
      "text/html": [
       "<div><style>\n",
       ".dataframe > thead > tr,\n",
       ".dataframe > tbody > tr {\n",
       "  text-align: right;\n",
       "  white-space: pre-wrap;\n",
       "}\n",
       "</style>\n",
       "<small>shape: (41_144, 15)</small><table border=\"1\" class=\"dataframe\"><thead><tr><th>city08</th><th>comb08</th><th>highway08</th><th>cylinders</th><th>displ</th><th>drive</th><th>fuelCost08</th><th>make</th><th>model</th><th>range</th><th>createdOn</th><th>year</th><th>FFS</th><th>speeds</th><th>manual</th></tr><tr><td>u8</td><td>u8</td><td>u8</td><td>u8</td><td>u8</td><td>cat</td><td>u16</td><td>cat</td><td>cat</td><td>u16</td><td>str</td><td>u16</td><td>bool</td><td>u8</td><td>bool</td></tr></thead><tbody><tr><td>19</td><td>21</td><td>25</td><td>4</td><td>2</td><td>&quot;Rear-Wheel Dri…</td><td>2000</td><td>&quot;Alfa Romeo&quot;</td><td>&quot;Spider Veloce …</td><td>0</td><td>&quot;Tue Jan 01 00:…</td><td>1985</td><td>true</td><td>5</td><td>true</td></tr><tr><td>9</td><td>11</td><td>14</td><td>12</td><td>4</td><td>&quot;Rear-Wheel Dri…</td><td>3850</td><td>&quot;Ferrari&quot;</td><td>&quot;Testarossa&quot;</td><td>0</td><td>&quot;Tue Jan 01 00:…</td><td>1985</td><td>false</td><td>5</td><td>true</td></tr><tr><td>23</td><td>27</td><td>33</td><td>4</td><td>2</td><td>&quot;Front-Wheel Dr…</td><td>1550</td><td>&quot;Dodge&quot;</td><td>&quot;Charger&quot;</td><td>0</td><td>&quot;Tue Jan 01 00:…</td><td>1985</td><td>true</td><td>5</td><td>true</td></tr><tr><td>10</td><td>11</td><td>12</td><td>8</td><td>5</td><td>&quot;Rear-Wheel Dri…</td><td>3850</td><td>&quot;Dodge&quot;</td><td>&quot;B150/B250 Wago…</td><td>0</td><td>&quot;Tue Jan 01 00:…</td><td>1985</td><td>null</td><td>3</td><td>false</td></tr><tr><td>17</td><td>19</td><td>23</td><td>4</td><td>2</td><td>&quot;4-Wheel or All…</td><td>2700</td><td>&quot;Subaru&quot;</td><td>&quot;Legacy AWD Tur…</td><td>0</td><td>&quot;Tue Jan 01 00:…</td><td>1993</td><td>true</td><td>5</td><td>true</td></tr><tr><td>&hellip;</td><td>&hellip;</td><td>&hellip;</td><td>&hellip;</td><td>&hellip;</td><td>&hellip;</td><td>&hellip;</td><td>&hellip;</td><td>&hellip;</td><td>&hellip;</td><td>&hellip;</td><td>&hellip;</td><td>&hellip;</td><td>&hellip;</td><td>&hellip;</td></tr><tr><td>19</td><td>22</td><td>26</td><td>4</td><td>2</td><td>&quot;Front-Wheel Dr…</td><td>1900</td><td>&quot;Subaru&quot;</td><td>&quot;Legacy&quot;</td><td>0</td><td>&quot;Tue Jan 01 00:…</td><td>1993</td><td>true</td><td>4</td><td>false</td></tr><tr><td>20</td><td>23</td><td>28</td><td>4</td><td>2</td><td>&quot;Front-Wheel Dr…</td><td>1850</td><td>&quot;Subaru&quot;</td><td>&quot;Legacy&quot;</td><td>0</td><td>&quot;Tue Jan 01 00:…</td><td>1993</td><td>true</td><td>5</td><td>true</td></tr><tr><td>18</td><td>21</td><td>24</td><td>4</td><td>2</td><td>&quot;4-Wheel or All…</td><td>2000</td><td>&quot;Subaru&quot;</td><td>&quot;Legacy AWD&quot;</td><td>0</td><td>&quot;Tue Jan 01 00:…</td><td>1993</td><td>true</td><td>4</td><td>false</td></tr><tr><td>18</td><td>21</td><td>24</td><td>4</td><td>2</td><td>&quot;4-Wheel or All…</td><td>2000</td><td>&quot;Subaru&quot;</td><td>&quot;Legacy AWD&quot;</td><td>0</td><td>&quot;Tue Jan 01 00:…</td><td>1993</td><td>true</td><td>5</td><td>true</td></tr><tr><td>16</td><td>18</td><td>21</td><td>4</td><td>2</td><td>&quot;4-Wheel or All…</td><td>2900</td><td>&quot;Subaru&quot;</td><td>&quot;Legacy AWD Tur…</td><td>0</td><td>&quot;Tue Jan 01 00:…</td><td>1993</td><td>true</td><td>4</td><td>false</td></tr></tbody></table></div>"
      ],
      "text/plain": [
       "shape: (41_144, 15)\n",
       "┌────────┬────────┬───────────┬───────────┬───┬──────┬───────┬────────┬────────┐\n",
       "│ city08 ┆ comb08 ┆ highway08 ┆ cylinders ┆ … ┆ year ┆ FFS   ┆ speeds ┆ manual │\n",
       "│ ---    ┆ ---    ┆ ---       ┆ ---       ┆   ┆ ---  ┆ ---   ┆ ---    ┆ ---    │\n",
       "│ u8     ┆ u8     ┆ u8        ┆ u8        ┆   ┆ u16  ┆ bool  ┆ u8     ┆ bool   │\n",
       "╞════════╪════════╪═══════════╪═══════════╪═══╪══════╪═══════╪════════╪════════╡\n",
       "│ 19     ┆ 21     ┆ 25        ┆ 4         ┆ … ┆ 1985 ┆ true  ┆ 5      ┆ true   │\n",
       "│ 9      ┆ 11     ┆ 14        ┆ 12        ┆ … ┆ 1985 ┆ false ┆ 5      ┆ true   │\n",
       "│ 23     ┆ 27     ┆ 33        ┆ 4         ┆ … ┆ 1985 ┆ true  ┆ 5      ┆ true   │\n",
       "│ 10     ┆ 11     ┆ 12        ┆ 8         ┆ … ┆ 1985 ┆ null  ┆ 3      ┆ false  │\n",
       "│ 17     ┆ 19     ┆ 23        ┆ 4         ┆ … ┆ 1993 ┆ true  ┆ 5      ┆ true   │\n",
       "│ …      ┆ …      ┆ …         ┆ …         ┆ … ┆ …    ┆ …     ┆ …      ┆ …      │\n",
       "│ 19     ┆ 22     ┆ 26        ┆ 4         ┆ … ┆ 1993 ┆ true  ┆ 4      ┆ false  │\n",
       "│ 20     ┆ 23     ┆ 28        ┆ 4         ┆ … ┆ 1993 ┆ true  ┆ 5      ┆ true   │\n",
       "│ 18     ┆ 21     ┆ 24        ┆ 4         ┆ … ┆ 1993 ┆ true  ┆ 4      ┆ false  │\n",
       "│ 18     ┆ 21     ┆ 24        ┆ 4         ┆ … ┆ 1993 ┆ true  ┆ 5      ┆ true   │\n",
       "│ 16     ┆ 18     ┆ 21        ┆ 4         ┆ … ┆ 1993 ┆ true  ┆ 4      ┆ false  │\n",
       "└────────┴────────┴───────────┴───────────┴───┴──────┴───────┴────────┴────────┘"
      ]
     },
     "execution_count": 114,
     "metadata": {},
     "output_type": "execute_result"
    }
   ],
   "source": [
    "# fill in missing values with other\n",
    "(autos\n",
    " .with_columns([\n",
    "     pl.col(['city08', 'comb08', 'highway08', 'displ',]).cast(pl.UInt8),\n",
    "     pl.col('cylinders').fill_null(0).cast(pl.UInt8),\n",
    "     pl.col(['fuelCost08', 'range', 'year',]).cast(pl.UInt16),\n",
    "     pl.col(['make', 'model',]).cast(pl.Categorical),\n",
    "     pl.col('drive').fill_null('other').cast(pl.Categorical),\n",
    "     pl.col('eng_dscr').str.contains('FFS').alias('FFS'),\n",
    "     pl.col('trany').str.extract(r'(\\d+)').cast(pl.UInt8).alias('speeds'),\n",
    "     pl.col('trany').str.contains('Manual').alias('manual'),\n",
    "     ],\n",
    " )\n",
    ".select(pl.col(['city08', 'comb08', 'highway08', 'cylinders', 'displ', 'drive', 'fuelCost08', 'make', 'model', 'range', 'createdOn', 'year', 'FFS', 'speeds', 'manual']))\n",
    ")"
   ]
  },
  {
   "cell_type": "code",
   "execution_count": 109,
   "id": "8fe0fccd-74e4-497c-978b-7278e7cf6647",
   "metadata": {},
   "outputs": [
    {
     "data": {
      "text/html": [
       "<div><style>\n",
       ".dataframe > thead > tr,\n",
       ".dataframe > tbody > tr {\n",
       "  text-align: right;\n",
       "  white-space: pre-wrap;\n",
       "}\n",
       "</style>\n",
       "<small>shape: (41_144, 15)</small><table border=\"1\" class=\"dataframe\"><thead><tr><th>city08</th><th>comb08</th><th>highway08</th><th>cylinders</th><th>displ</th><th>drive</th><th>fuelCost08</th><th>make</th><th>model</th><th>range</th><th>createdOn</th><th>year</th><th>FFS</th><th>speeds</th><th>manual</th></tr><tr><td>u8</td><td>u8</td><td>u8</td><td>u8</td><td>u8</td><td>cat</td><td>u16</td><td>cat</td><td>cat</td><td>u16</td><td>datetime[μs, UTC]</td><td>u16</td><td>bool</td><td>u8</td><td>bool</td></tr></thead><tbody><tr><td>19</td><td>21</td><td>25</td><td>4</td><td>2</td><td>&quot;Rear-Wheel Dri…</td><td>2000</td><td>&quot;Alfa Romeo&quot;</td><td>&quot;Spider Veloce …</td><td>0</td><td>2013-01-01 05:00:00 UTC</td><td>1985</td><td>true</td><td>5</td><td>true</td></tr><tr><td>9</td><td>11</td><td>14</td><td>12</td><td>4</td><td>&quot;Rear-Wheel Dri…</td><td>3850</td><td>&quot;Ferrari&quot;</td><td>&quot;Testarossa&quot;</td><td>0</td><td>2013-01-01 05:00:00 UTC</td><td>1985</td><td>false</td><td>5</td><td>true</td></tr><tr><td>23</td><td>27</td><td>33</td><td>4</td><td>2</td><td>&quot;Front-Wheel Dr…</td><td>1550</td><td>&quot;Dodge&quot;</td><td>&quot;Charger&quot;</td><td>0</td><td>2013-01-01 05:00:00 UTC</td><td>1985</td><td>true</td><td>5</td><td>true</td></tr><tr><td>10</td><td>11</td><td>12</td><td>8</td><td>5</td><td>&quot;Rear-Wheel Dri…</td><td>3850</td><td>&quot;Dodge&quot;</td><td>&quot;B150/B250 Wago…</td><td>0</td><td>2013-01-01 05:00:00 UTC</td><td>1985</td><td>null</td><td>3</td><td>false</td></tr><tr><td>17</td><td>19</td><td>23</td><td>4</td><td>2</td><td>&quot;4-Wheel or All…</td><td>2700</td><td>&quot;Subaru&quot;</td><td>&quot;Legacy AWD Tur…</td><td>0</td><td>2013-01-01 05:00:00 UTC</td><td>1993</td><td>true</td><td>5</td><td>true</td></tr><tr><td>&hellip;</td><td>&hellip;</td><td>&hellip;</td><td>&hellip;</td><td>&hellip;</td><td>&hellip;</td><td>&hellip;</td><td>&hellip;</td><td>&hellip;</td><td>&hellip;</td><td>&hellip;</td><td>&hellip;</td><td>&hellip;</td><td>&hellip;</td><td>&hellip;</td></tr><tr><td>19</td><td>22</td><td>26</td><td>4</td><td>2</td><td>&quot;Front-Wheel Dr…</td><td>1900</td><td>&quot;Subaru&quot;</td><td>&quot;Legacy&quot;</td><td>0</td><td>2013-01-01 05:00:00 UTC</td><td>1993</td><td>true</td><td>4</td><td>false</td></tr><tr><td>20</td><td>23</td><td>28</td><td>4</td><td>2</td><td>&quot;Front-Wheel Dr…</td><td>1850</td><td>&quot;Subaru&quot;</td><td>&quot;Legacy&quot;</td><td>0</td><td>2013-01-01 05:00:00 UTC</td><td>1993</td><td>true</td><td>5</td><td>true</td></tr><tr><td>18</td><td>21</td><td>24</td><td>4</td><td>2</td><td>&quot;4-Wheel or All…</td><td>2000</td><td>&quot;Subaru&quot;</td><td>&quot;Legacy AWD&quot;</td><td>0</td><td>2013-01-01 05:00:00 UTC</td><td>1993</td><td>true</td><td>4</td><td>false</td></tr><tr><td>18</td><td>21</td><td>24</td><td>4</td><td>2</td><td>&quot;4-Wheel or All…</td><td>2000</td><td>&quot;Subaru&quot;</td><td>&quot;Legacy AWD&quot;</td><td>0</td><td>2013-01-01 05:00:00 UTC</td><td>1993</td><td>true</td><td>5</td><td>true</td></tr><tr><td>16</td><td>18</td><td>21</td><td>4</td><td>2</td><td>&quot;4-Wheel or All…</td><td>2900</td><td>&quot;Subaru&quot;</td><td>&quot;Legacy AWD Tur…</td><td>0</td><td>2013-01-01 05:00:00 UTC</td><td>1993</td><td>true</td><td>4</td><td>false</td></tr></tbody></table></div>"
      ],
      "text/plain": [
       "shape: (41_144, 15)\n",
       "┌────────┬────────┬───────────┬───────────┬───┬──────┬───────┬────────┬────────┐\n",
       "│ city08 ┆ comb08 ┆ highway08 ┆ cylinders ┆ … ┆ year ┆ FFS   ┆ speeds ┆ manual │\n",
       "│ ---    ┆ ---    ┆ ---       ┆ ---       ┆   ┆ ---  ┆ ---   ┆ ---    ┆ ---    │\n",
       "│ u8     ┆ u8     ┆ u8        ┆ u8        ┆   ┆ u16  ┆ bool  ┆ u8     ┆ bool   │\n",
       "╞════════╪════════╪═══════════╪═══════════╪═══╪══════╪═══════╪════════╪════════╡\n",
       "│ 19     ┆ 21     ┆ 25        ┆ 4         ┆ … ┆ 1985 ┆ true  ┆ 5      ┆ true   │\n",
       "│ 9      ┆ 11     ┆ 14        ┆ 12        ┆ … ┆ 1985 ┆ false ┆ 5      ┆ true   │\n",
       "│ 23     ┆ 27     ┆ 33        ┆ 4         ┆ … ┆ 1985 ┆ true  ┆ 5      ┆ true   │\n",
       "│ 10     ┆ 11     ┆ 12        ┆ 8         ┆ … ┆ 1985 ┆ null  ┆ 3      ┆ false  │\n",
       "│ 17     ┆ 19     ┆ 23        ┆ 4         ┆ … ┆ 1993 ┆ true  ┆ 5      ┆ true   │\n",
       "│ …      ┆ …      ┆ …         ┆ …         ┆ … ┆ …    ┆ …     ┆ …      ┆ …      │\n",
       "│ 19     ┆ 22     ┆ 26        ┆ 4         ┆ … ┆ 1993 ┆ true  ┆ 4      ┆ false  │\n",
       "│ 20     ┆ 23     ┆ 28        ┆ 4         ┆ … ┆ 1993 ┆ true  ┆ 5      ┆ true   │\n",
       "│ 18     ┆ 21     ┆ 24        ┆ 4         ┆ … ┆ 1993 ┆ true  ┆ 4      ┆ false  │\n",
       "│ 18     ┆ 21     ┆ 24        ┆ 4         ┆ … ┆ 1993 ┆ true  ┆ 5      ┆ true   │\n",
       "│ 16     ┆ 18     ┆ 21        ┆ 4         ┆ … ┆ 1993 ┆ true  ┆ 4      ┆ false  │\n",
       "└────────┴────────┴───────────┴───────────┴───┴──────┴───────┴────────┴────────┘"
      ]
     },
     "execution_count": 109,
     "metadata": {},
     "output_type": "execute_result"
    }
   ],
   "source": [
    "(autos\n",
    " .with_columns(\n",
    "     pl.col(['city08', 'comb08', 'highway08', 'displ',]).cast(pl.UInt8),\n",
    "     pl.col('cylinders').fill_null(0).cast(pl.UInt8),\n",
    "     pl.col(['fuelCost08', 'range', 'year',]).cast(pl.UInt16),\n",
    "     pl.col(['make', 'model',]).cast(pl.Categorical),\n",
    "     pl.col('drive').fill_null('other').cast(pl.Categorical),\n",
    "     pl.col('eng_dscr').str.contains('FFS').alias('FFS'),\n",
    "     pl.col('trany').str.extract(r'(\\d+)').cast(pl.UInt8).alias('speeds'),\n",
    "     pl.col('trany').str.contains('Manual').alias('manual'),\n",
    "     pl.col('createdOn').str.replace(' EDT', ' -0400')\n",
    "                    .str.replace(' EST', ' -0500')\n",
    "                    .str.strptime(pl.Datetime, '%a %b %d %H:%M:%S %z %Y')\n",
    "    )\n",
    ".select(pl.col(['city08', 'comb08', 'highway08', 'cylinders', 'displ', 'drive', 'fuelCost08', 'make', 'model', 'range', 'createdOn', 'year', 'FFS', 'speeds', 'manual']))\n",
    ")"
   ]
  },
  {
   "cell_type": "code",
   "execution_count": 110,
   "id": "fe42db2d-c7a0-46c1-a330-084b6ca29490",
   "metadata": {},
   "outputs": [
    {
     "data": {
      "text/html": [
       "<div><style>\n",
       ".dataframe > thead > tr,\n",
       ".dataframe > tbody > tr {\n",
       "  text-align: right;\n",
       "  white-space: pre-wrap;\n",
       "}\n",
       "</style>\n",
       "<small>shape: (41_144, 15)</small><table border=\"1\" class=\"dataframe\"><thead><tr><th>city08</th><th>comb08</th><th>highway08</th><th>cylinders</th><th>displ</th><th>drive</th><th>fuelCost08</th><th>make</th><th>model</th><th>range</th><th>createdOn</th><th>year</th><th>FFS</th><th>speeds</th><th>manual</th></tr><tr><td>u8</td><td>u8</td><td>u8</td><td>u8</td><td>u8</td><td>cat</td><td>u16</td><td>cat</td><td>cat</td><td>u16</td><td>datetime[μs, America/New_York]</td><td>u16</td><td>bool</td><td>u8</td><td>bool</td></tr></thead><tbody><tr><td>19</td><td>21</td><td>25</td><td>4</td><td>2</td><td>&quot;Rear-Wheel Dri…</td><td>2000</td><td>&quot;Alfa Romeo&quot;</td><td>&quot;Spider Veloce …</td><td>0</td><td>2013-01-01 00:00:00 EST</td><td>1985</td><td>true</td><td>5</td><td>true</td></tr><tr><td>9</td><td>11</td><td>14</td><td>12</td><td>4</td><td>&quot;Rear-Wheel Dri…</td><td>3850</td><td>&quot;Ferrari&quot;</td><td>&quot;Testarossa&quot;</td><td>0</td><td>2013-01-01 00:00:00 EST</td><td>1985</td><td>false</td><td>5</td><td>true</td></tr><tr><td>23</td><td>27</td><td>33</td><td>4</td><td>2</td><td>&quot;Front-Wheel Dr…</td><td>1550</td><td>&quot;Dodge&quot;</td><td>&quot;Charger&quot;</td><td>0</td><td>2013-01-01 00:00:00 EST</td><td>1985</td><td>true</td><td>5</td><td>true</td></tr><tr><td>10</td><td>11</td><td>12</td><td>8</td><td>5</td><td>&quot;Rear-Wheel Dri…</td><td>3850</td><td>&quot;Dodge&quot;</td><td>&quot;B150/B250 Wago…</td><td>0</td><td>2013-01-01 00:00:00 EST</td><td>1985</td><td>null</td><td>3</td><td>false</td></tr><tr><td>17</td><td>19</td><td>23</td><td>4</td><td>2</td><td>&quot;4-Wheel or All…</td><td>2700</td><td>&quot;Subaru&quot;</td><td>&quot;Legacy AWD Tur…</td><td>0</td><td>2013-01-01 00:00:00 EST</td><td>1993</td><td>true</td><td>5</td><td>true</td></tr><tr><td>&hellip;</td><td>&hellip;</td><td>&hellip;</td><td>&hellip;</td><td>&hellip;</td><td>&hellip;</td><td>&hellip;</td><td>&hellip;</td><td>&hellip;</td><td>&hellip;</td><td>&hellip;</td><td>&hellip;</td><td>&hellip;</td><td>&hellip;</td><td>&hellip;</td></tr><tr><td>19</td><td>22</td><td>26</td><td>4</td><td>2</td><td>&quot;Front-Wheel Dr…</td><td>1900</td><td>&quot;Subaru&quot;</td><td>&quot;Legacy&quot;</td><td>0</td><td>2013-01-01 00:00:00 EST</td><td>1993</td><td>true</td><td>4</td><td>false</td></tr><tr><td>20</td><td>23</td><td>28</td><td>4</td><td>2</td><td>&quot;Front-Wheel Dr…</td><td>1850</td><td>&quot;Subaru&quot;</td><td>&quot;Legacy&quot;</td><td>0</td><td>2013-01-01 00:00:00 EST</td><td>1993</td><td>true</td><td>5</td><td>true</td></tr><tr><td>18</td><td>21</td><td>24</td><td>4</td><td>2</td><td>&quot;4-Wheel or All…</td><td>2000</td><td>&quot;Subaru&quot;</td><td>&quot;Legacy AWD&quot;</td><td>0</td><td>2013-01-01 00:00:00 EST</td><td>1993</td><td>true</td><td>4</td><td>false</td></tr><tr><td>18</td><td>21</td><td>24</td><td>4</td><td>2</td><td>&quot;4-Wheel or All…</td><td>2000</td><td>&quot;Subaru&quot;</td><td>&quot;Legacy AWD&quot;</td><td>0</td><td>2013-01-01 00:00:00 EST</td><td>1993</td><td>true</td><td>5</td><td>true</td></tr><tr><td>16</td><td>18</td><td>21</td><td>4</td><td>2</td><td>&quot;4-Wheel or All…</td><td>2900</td><td>&quot;Subaru&quot;</td><td>&quot;Legacy AWD Tur…</td><td>0</td><td>2013-01-01 00:00:00 EST</td><td>1993</td><td>true</td><td>4</td><td>false</td></tr></tbody></table></div>"
      ],
      "text/plain": [
       "shape: (41_144, 15)\n",
       "┌────────┬────────┬───────────┬───────────┬───┬──────┬───────┬────────┬────────┐\n",
       "│ city08 ┆ comb08 ┆ highway08 ┆ cylinders ┆ … ┆ year ┆ FFS   ┆ speeds ┆ manual │\n",
       "│ ---    ┆ ---    ┆ ---       ┆ ---       ┆   ┆ ---  ┆ ---   ┆ ---    ┆ ---    │\n",
       "│ u8     ┆ u8     ┆ u8        ┆ u8        ┆   ┆ u16  ┆ bool  ┆ u8     ┆ bool   │\n",
       "╞════════╪════════╪═══════════╪═══════════╪═══╪══════╪═══════╪════════╪════════╡\n",
       "│ 19     ┆ 21     ┆ 25        ┆ 4         ┆ … ┆ 1985 ┆ true  ┆ 5      ┆ true   │\n",
       "│ 9      ┆ 11     ┆ 14        ┆ 12        ┆ … ┆ 1985 ┆ false ┆ 5      ┆ true   │\n",
       "│ 23     ┆ 27     ┆ 33        ┆ 4         ┆ … ┆ 1985 ┆ true  ┆ 5      ┆ true   │\n",
       "│ 10     ┆ 11     ┆ 12        ┆ 8         ┆ … ┆ 1985 ┆ null  ┆ 3      ┆ false  │\n",
       "│ 17     ┆ 19     ┆ 23        ┆ 4         ┆ … ┆ 1993 ┆ true  ┆ 5      ┆ true   │\n",
       "│ …      ┆ …      ┆ …         ┆ …         ┆ … ┆ …    ┆ …     ┆ …      ┆ …      │\n",
       "│ 19     ┆ 22     ┆ 26        ┆ 4         ┆ … ┆ 1993 ┆ true  ┆ 4      ┆ false  │\n",
       "│ 20     ┆ 23     ┆ 28        ┆ 4         ┆ … ┆ 1993 ┆ true  ┆ 5      ┆ true   │\n",
       "│ 18     ┆ 21     ┆ 24        ┆ 4         ┆ … ┆ 1993 ┆ true  ┆ 4      ┆ false  │\n",
       "│ 18     ┆ 21     ┆ 24        ┆ 4         ┆ … ┆ 1993 ┆ true  ┆ 5      ┆ true   │\n",
       "│ 16     ┆ 18     ┆ 21        ┆ 4         ┆ … ┆ 1993 ┆ true  ┆ 4      ┆ false  │\n",
       "└────────┴────────┴───────────┴───────────┴───┴──────┴───────┴────────┴────────┘"
      ]
     },
     "execution_count": 110,
     "metadata": {},
     "output_type": "execute_result"
    }
   ],
   "source": [
    "# NYC timezone\n",
    "(autos\n",
    " .with_columns(\n",
    "     pl.col(['city08', 'comb08', 'highway08', 'displ',]).cast(pl.UInt8),\n",
    "     pl.col('cylinders').fill_null(0).cast(pl.UInt8),\n",
    "     pl.col(['fuelCost08', 'range', 'year',]).cast(pl.UInt16),\n",
    "     pl.col(['make', 'model',]).cast(pl.Categorical),\n",
    "     pl.col('drive').fill_null('other').cast(pl.Categorical),\n",
    "     pl.col('eng_dscr').str.contains('FFS').alias('FFS'),\n",
    "     pl.col('trany').str.extract(r'(\\d+)').cast(pl.UInt8).alias('speeds'),\n",
    "     pl.col('trany').str.contains('Manual').alias('manual'),\n",
    "     pl.col('createdOn').str.replace(' EDT', ' -0400')\n",
    "                    .str.replace(' EST', ' -0500')\n",
    "                    .str.strptime(pl.Datetime, '%a %b %d %H:%M:%S %z %Y')\n",
    "                    .dt.convert_time_zone('America/New_York')\n",
    "    )\n",
    ".select(pl.col(['city08', 'comb08', 'highway08', 'cylinders', 'displ', 'drive', 'fuelCost08', 'make', 'model', 'range', 'createdOn', 'year', 'FFS', 'speeds', 'manual']))\n",
    ")"
   ]
  },
  {
   "cell_type": "code",
   "execution_count": 30,
   "id": "738e1ee7-dd55-4d94-97f8-96d4427d1f03",
   "metadata": {},
   "outputs": [
    {
     "data": {
      "text/html": [
       "<div><style>\n",
       ".dataframe > thead > tr,\n",
       ".dataframe > tbody > tr {\n",
       "  text-align: right;\n",
       "  white-space: pre-wrap;\n",
       "}\n",
       "</style>\n",
       "<small>shape: (41_144, 15)</small><table border=\"1\" class=\"dataframe\"><thead><tr><th>city08</th><th>comb08</th><th>highway08</th><th>cylinders</th><th>displ</th><th>drive</th><th>fuelCost08</th><th>make</th><th>model</th><th>range</th><th>createdOn</th><th>year</th><th>FFS</th><th>speeds</th><th>manual</th></tr><tr><td>u8</td><td>u8</td><td>u8</td><td>u8</td><td>u8</td><td>cat</td><td>u16</td><td>cat</td><td>cat</td><td>u16</td><td>datetime[μs, America/New_York]</td><td>u16</td><td>bool</td><td>u8</td><td>bool</td></tr></thead><tbody><tr><td>19</td><td>21</td><td>25</td><td>4</td><td>2</td><td>&quot;Rear-Wheel Dri…</td><td>2000</td><td>&quot;Alfa Romeo&quot;</td><td>&quot;Spider Veloce …</td><td>0</td><td>2013-01-01 00:00:00 EST</td><td>1985</td><td>true</td><td>5</td><td>true</td></tr><tr><td>9</td><td>11</td><td>14</td><td>12</td><td>4</td><td>&quot;Rear-Wheel Dri…</td><td>3850</td><td>&quot;Ferrari&quot;</td><td>&quot;Testarossa&quot;</td><td>0</td><td>2013-01-01 00:00:00 EST</td><td>1985</td><td>false</td><td>5</td><td>true</td></tr><tr><td>23</td><td>27</td><td>33</td><td>4</td><td>2</td><td>&quot;Front-Wheel Dr…</td><td>1550</td><td>&quot;Dodge&quot;</td><td>&quot;Charger&quot;</td><td>0</td><td>2013-01-01 00:00:00 EST</td><td>1985</td><td>true</td><td>5</td><td>true</td></tr><tr><td>10</td><td>11</td><td>12</td><td>8</td><td>5</td><td>&quot;Rear-Wheel Dri…</td><td>3850</td><td>&quot;Dodge&quot;</td><td>&quot;B150/B250 Wago…</td><td>0</td><td>2013-01-01 00:00:00 EST</td><td>1985</td><td>null</td><td>3</td><td>false</td></tr><tr><td>17</td><td>19</td><td>23</td><td>4</td><td>2</td><td>&quot;4-Wheel or All…</td><td>2700</td><td>&quot;Subaru&quot;</td><td>&quot;Legacy AWD Tur…</td><td>0</td><td>2013-01-01 00:00:00 EST</td><td>1993</td><td>true</td><td>5</td><td>true</td></tr><tr><td>&hellip;</td><td>&hellip;</td><td>&hellip;</td><td>&hellip;</td><td>&hellip;</td><td>&hellip;</td><td>&hellip;</td><td>&hellip;</td><td>&hellip;</td><td>&hellip;</td><td>&hellip;</td><td>&hellip;</td><td>&hellip;</td><td>&hellip;</td><td>&hellip;</td></tr><tr><td>19</td><td>22</td><td>26</td><td>4</td><td>2</td><td>&quot;Front-Wheel Dr…</td><td>1900</td><td>&quot;Subaru&quot;</td><td>&quot;Legacy&quot;</td><td>0</td><td>2013-01-01 00:00:00 EST</td><td>1993</td><td>true</td><td>4</td><td>false</td></tr><tr><td>20</td><td>23</td><td>28</td><td>4</td><td>2</td><td>&quot;Front-Wheel Dr…</td><td>1850</td><td>&quot;Subaru&quot;</td><td>&quot;Legacy&quot;</td><td>0</td><td>2013-01-01 00:00:00 EST</td><td>1993</td><td>true</td><td>5</td><td>true</td></tr><tr><td>18</td><td>21</td><td>24</td><td>4</td><td>2</td><td>&quot;4-Wheel or All…</td><td>2000</td><td>&quot;Subaru&quot;</td><td>&quot;Legacy AWD&quot;</td><td>0</td><td>2013-01-01 00:00:00 EST</td><td>1993</td><td>true</td><td>4</td><td>false</td></tr><tr><td>18</td><td>21</td><td>24</td><td>4</td><td>2</td><td>&quot;4-Wheel or All…</td><td>2000</td><td>&quot;Subaru&quot;</td><td>&quot;Legacy AWD&quot;</td><td>0</td><td>2013-01-01 00:00:00 EST</td><td>1993</td><td>true</td><td>5</td><td>true</td></tr><tr><td>16</td><td>18</td><td>21</td><td>4</td><td>2</td><td>&quot;4-Wheel or All…</td><td>2900</td><td>&quot;Subaru&quot;</td><td>&quot;Legacy AWD Tur…</td><td>0</td><td>2013-01-01 00:00:00 EST</td><td>1993</td><td>true</td><td>4</td><td>false</td></tr></tbody></table></div>"
      ],
      "text/plain": [
       "shape: (41_144, 15)\n",
       "┌────────┬────────┬───────────┬───────────┬───┬──────┬───────┬────────┬────────┐\n",
       "│ city08 ┆ comb08 ┆ highway08 ┆ cylinders ┆ … ┆ year ┆ FFS   ┆ speeds ┆ manual │\n",
       "│ ---    ┆ ---    ┆ ---       ┆ ---       ┆   ┆ ---  ┆ ---   ┆ ---    ┆ ---    │\n",
       "│ u8     ┆ u8     ┆ u8        ┆ u8        ┆   ┆ u16  ┆ bool  ┆ u8     ┆ bool   │\n",
       "╞════════╪════════╪═══════════╪═══════════╪═══╪══════╪═══════╪════════╪════════╡\n",
       "│ 19     ┆ 21     ┆ 25        ┆ 4         ┆ … ┆ 1985 ┆ true  ┆ 5      ┆ true   │\n",
       "│ 9      ┆ 11     ┆ 14        ┆ 12        ┆ … ┆ 1985 ┆ false ┆ 5      ┆ true   │\n",
       "│ 23     ┆ 27     ┆ 33        ┆ 4         ┆ … ┆ 1985 ┆ true  ┆ 5      ┆ true   │\n",
       "│ 10     ┆ 11     ┆ 12        ┆ 8         ┆ … ┆ 1985 ┆ null  ┆ 3      ┆ false  │\n",
       "│ 17     ┆ 19     ┆ 23        ┆ 4         ┆ … ┆ 1993 ┆ true  ┆ 5      ┆ true   │\n",
       "│ …      ┆ …      ┆ …         ┆ …         ┆ … ┆ …    ┆ …     ┆ …      ┆ …      │\n",
       "│ 19     ┆ 22     ┆ 26        ┆ 4         ┆ … ┆ 1993 ┆ true  ┆ 4      ┆ false  │\n",
       "│ 20     ┆ 23     ┆ 28        ┆ 4         ┆ … ┆ 1993 ┆ true  ┆ 5      ┆ true   │\n",
       "│ 18     ┆ 21     ┆ 24        ┆ 4         ┆ … ┆ 1993 ┆ true  ┆ 4      ┆ false  │\n",
       "│ 18     ┆ 21     ┆ 24        ┆ 4         ┆ … ┆ 1993 ┆ true  ┆ 5      ┆ true   │\n",
       "│ 16     ┆ 18     ┆ 21        ┆ 4         ┆ … ┆ 1993 ┆ true  ┆ 4      ┆ false  │\n",
       "└────────┴────────┴───────────┴───────────┴───┴──────┴───────┴────────┴────────┘"
      ]
     },
     "execution_count": 30,
     "metadata": {},
     "output_type": "execute_result"
    }
   ],
   "source": [
    "# convert to a function\n",
    "def tweak_autos(autos):\n",
    "    return (autos\n",
    "        .with_columns(\n",
    "            pl.col(['city08', 'comb08', 'highway08', 'displ',]).cast(pl.UInt8),\n",
    "            pl.col('cylinders').fill_null(0).cast(pl.UInt8),\n",
    "            pl.col(['fuelCost08', 'range', 'year',]).cast(pl.UInt16),\n",
    "            pl.col(['make', 'model',]).cast(pl.Categorical),\n",
    "            pl.col('drive').fill_null('other').cast(pl.Categorical),\n",
    "            pl.col('eng_dscr').str.contains('FFS').alias('FFS'),\n",
    "            pl.col('trany').str.extract(r'(\\d+)').cast(pl.UInt8).alias('speeds'),\n",
    "            pl.col('trany').str.contains('Manual').alias('manual'),\n",
    "            pl.col('createdOn').str.replace(' EDT', ' -0400')\n",
    "                    .str.replace(' EST', ' -0500')\n",
    "                    .str.strptime(pl.Datetime, '%a %b %d %H:%M:%S %z %Y')\n",
    "                    .dt.convert_time_zone('America/New_York')\n",
    "            )\n",
    "        .select(pl.col(['city08', 'comb08', 'highway08', 'cylinders', 'displ', 'drive', 'fuelCost08', 'make', 'model', 'range', 'createdOn', 'year', 'FFS', 'speeds', 'manual']))\n",
    "    )\n",
    "\n",
    "tweak_autos(autos)"
   ]
  },
  {
   "cell_type": "markdown",
   "id": "c53014d6-b244-4e2e-bf85-1897f7d1dc2b",
   "metadata": {},
   "source": [
    "# Chain\n",
    "Chaining is also called \"flow\" programming. Rather than make intermediate variables, just leverage the fact that most operations return a new object and work on that. \n",
    "\n",
    "The chain should read like a recipe of ordered steps."
   ]
  },
  {
   "cell_type": "code",
   "execution_count": 33,
   "id": "b21d4cdb-847a-49b6-85de-acd39d539ab1",
   "metadata": {},
   "outputs": [
    {
     "data": {
      "text/html": [
       "<div><style>\n",
       ".dataframe > thead > tr,\n",
       ".dataframe > tbody > tr {\n",
       "  text-align: right;\n",
       "  white-space: pre-wrap;\n",
       "}\n",
       "</style>\n",
       "<small>shape: (41_144, 15)</small><table border=\"1\" class=\"dataframe\"><thead><tr><th>city08</th><th>comb08</th><th>highway08</th><th>cylinders</th><th>displ</th><th>drive</th><th>fuelCost08</th><th>make</th><th>model</th><th>range</th><th>createdOn</th><th>year</th><th>FFS</th><th>speeds</th><th>manual</th></tr><tr><td>u8</td><td>u8</td><td>u8</td><td>u8</td><td>u8</td><td>cat</td><td>u16</td><td>cat</td><td>cat</td><td>u16</td><td>datetime[μs, America/New_York]</td><td>u16</td><td>bool</td><td>u8</td><td>bool</td></tr></thead><tbody><tr><td>19</td><td>21</td><td>25</td><td>4</td><td>2</td><td>&quot;Rear-Wheel Dri…</td><td>2000</td><td>&quot;Alfa Romeo&quot;</td><td>&quot;Spider Veloce …</td><td>0</td><td>2013-01-01 00:00:00 EST</td><td>1985</td><td>true</td><td>5</td><td>true</td></tr><tr><td>9</td><td>11</td><td>14</td><td>12</td><td>4</td><td>&quot;Rear-Wheel Dri…</td><td>3850</td><td>&quot;Ferrari&quot;</td><td>&quot;Testarossa&quot;</td><td>0</td><td>2013-01-01 00:00:00 EST</td><td>1985</td><td>false</td><td>5</td><td>true</td></tr><tr><td>23</td><td>27</td><td>33</td><td>4</td><td>2</td><td>&quot;Front-Wheel Dr…</td><td>1550</td><td>&quot;Dodge&quot;</td><td>&quot;Charger&quot;</td><td>0</td><td>2013-01-01 00:00:00 EST</td><td>1985</td><td>true</td><td>5</td><td>true</td></tr><tr><td>10</td><td>11</td><td>12</td><td>8</td><td>5</td><td>&quot;Rear-Wheel Dri…</td><td>3850</td><td>&quot;Dodge&quot;</td><td>&quot;B150/B250 Wago…</td><td>0</td><td>2013-01-01 00:00:00 EST</td><td>1985</td><td>null</td><td>3</td><td>false</td></tr><tr><td>17</td><td>19</td><td>23</td><td>4</td><td>2</td><td>&quot;4-Wheel or All…</td><td>2700</td><td>&quot;Subaru&quot;</td><td>&quot;Legacy AWD Tur…</td><td>0</td><td>2013-01-01 00:00:00 EST</td><td>1993</td><td>true</td><td>5</td><td>true</td></tr><tr><td>&hellip;</td><td>&hellip;</td><td>&hellip;</td><td>&hellip;</td><td>&hellip;</td><td>&hellip;</td><td>&hellip;</td><td>&hellip;</td><td>&hellip;</td><td>&hellip;</td><td>&hellip;</td><td>&hellip;</td><td>&hellip;</td><td>&hellip;</td><td>&hellip;</td></tr><tr><td>19</td><td>22</td><td>26</td><td>4</td><td>2</td><td>&quot;Front-Wheel Dr…</td><td>1900</td><td>&quot;Subaru&quot;</td><td>&quot;Legacy&quot;</td><td>0</td><td>2013-01-01 00:00:00 EST</td><td>1993</td><td>true</td><td>4</td><td>false</td></tr><tr><td>20</td><td>23</td><td>28</td><td>4</td><td>2</td><td>&quot;Front-Wheel Dr…</td><td>1850</td><td>&quot;Subaru&quot;</td><td>&quot;Legacy&quot;</td><td>0</td><td>2013-01-01 00:00:00 EST</td><td>1993</td><td>true</td><td>5</td><td>true</td></tr><tr><td>18</td><td>21</td><td>24</td><td>4</td><td>2</td><td>&quot;4-Wheel or All…</td><td>2000</td><td>&quot;Subaru&quot;</td><td>&quot;Legacy AWD&quot;</td><td>0</td><td>2013-01-01 00:00:00 EST</td><td>1993</td><td>true</td><td>4</td><td>false</td></tr><tr><td>18</td><td>21</td><td>24</td><td>4</td><td>2</td><td>&quot;4-Wheel or All…</td><td>2000</td><td>&quot;Subaru&quot;</td><td>&quot;Legacy AWD&quot;</td><td>0</td><td>2013-01-01 00:00:00 EST</td><td>1993</td><td>true</td><td>5</td><td>true</td></tr><tr><td>16</td><td>18</td><td>21</td><td>4</td><td>2</td><td>&quot;4-Wheel or All…</td><td>2900</td><td>&quot;Subaru&quot;</td><td>&quot;Legacy AWD Tur…</td><td>0</td><td>2013-01-01 00:00:00 EST</td><td>1993</td><td>true</td><td>4</td><td>false</td></tr></tbody></table></div>"
      ],
      "text/plain": [
       "shape: (41_144, 15)\n",
       "┌────────┬────────┬───────────┬───────────┬───┬──────┬───────┬────────┬────────┐\n",
       "│ city08 ┆ comb08 ┆ highway08 ┆ cylinders ┆ … ┆ year ┆ FFS   ┆ speeds ┆ manual │\n",
       "│ ---    ┆ ---    ┆ ---       ┆ ---       ┆   ┆ ---  ┆ ---   ┆ ---    ┆ ---    │\n",
       "│ u8     ┆ u8     ┆ u8        ┆ u8        ┆   ┆ u16  ┆ bool  ┆ u8     ┆ bool   │\n",
       "╞════════╪════════╪═══════════╪═══════════╪═══╪══════╪═══════╪════════╪════════╡\n",
       "│ 19     ┆ 21     ┆ 25        ┆ 4         ┆ … ┆ 1985 ┆ true  ┆ 5      ┆ true   │\n",
       "│ 9      ┆ 11     ┆ 14        ┆ 12        ┆ … ┆ 1985 ┆ false ┆ 5      ┆ true   │\n",
       "│ 23     ┆ 27     ┆ 33        ┆ 4         ┆ … ┆ 1985 ┆ true  ┆ 5      ┆ true   │\n",
       "│ 10     ┆ 11     ┆ 12        ┆ 8         ┆ … ┆ 1985 ┆ null  ┆ 3      ┆ false  │\n",
       "│ 17     ┆ 19     ┆ 23        ┆ 4         ┆ … ┆ 1993 ┆ true  ┆ 5      ┆ true   │\n",
       "│ …      ┆ …      ┆ …         ┆ …         ┆ … ┆ …    ┆ …     ┆ …      ┆ …      │\n",
       "│ 19     ┆ 22     ┆ 26        ┆ 4         ┆ … ┆ 1993 ┆ true  ┆ 4      ┆ false  │\n",
       "│ 20     ┆ 23     ┆ 28        ┆ 4         ┆ … ┆ 1993 ┆ true  ┆ 5      ┆ true   │\n",
       "│ 18     ┆ 21     ┆ 24        ┆ 4         ┆ … ┆ 1993 ┆ true  ┆ 4      ┆ false  │\n",
       "│ 18     ┆ 21     ┆ 24        ┆ 4         ┆ … ┆ 1993 ┆ true  ┆ 5      ┆ true   │\n",
       "│ 16     ┆ 18     ┆ 21        ┆ 4         ┆ … ┆ 1993 ┆ true  ┆ 4      ┆ false  │\n",
       "└────────┴────────┴───────────┴───────────┴───┴──────┴───────┴────────┴────────┘"
      ]
     },
     "execution_count": 33,
     "metadata": {},
     "output_type": "execute_result"
    }
   ],
   "source": [
    "# make function lazy and end to end complete\n",
    "def tweak_autos_lazy(path):\n",
    "    return (pl.scan_csv(path, null_values=['NA'])\n",
    "        .lazy()\n",
    "        .with_columns(\n",
    "            pl.col(['city08', 'comb08', 'highway08', 'displ',]).cast(pl.UInt8),\n",
    "            pl.col('cylinders').fill_null(0).cast(pl.UInt8),\n",
    "            pl.col(['fuelCost08', 'range', 'year',]).cast(pl.UInt16),\n",
    "            pl.col(['make', 'model',]).cast(pl.Categorical),\n",
    "            pl.col('drive').fill_null('other').cast(pl.Categorical),\n",
    "            pl.col('eng_dscr').str.contains('FFS').alias('FFS'),\n",
    "            pl.col('trany').str.extract(r'(\\d+)').cast(pl.UInt8).alias('speeds'),\n",
    "            pl.col('trany').str.contains('Manual').alias('manual'),\n",
    "            pl.col('createdOn').str.replace(' EDT', ' -0400')\n",
    "                    .str.replace(' EST', ' -0500')\n",
    "                    .str.strptime(pl.Datetime, '%a %b %d %H:%M:%S %z %Y')\n",
    "                    .dt.convert_time_zone('America/New_York')\n",
    "            )\n",
    "        .select(pl.col(['city08', 'comb08', 'highway08', 'cylinders', 'displ', 'drive', 'fuelCost08', 'make', 'model', 'range', 'createdOn', 'year', 'FFS', 'speeds', 'manual']))\n",
    "        .collect()    \n",
    "        )\n",
    "\n",
    "tweak_autos_lazy('../datasets/vehicles.csv')"
   ]
  },
  {
   "cell_type": "code",
   "execution_count": 7,
   "id": "1aeb7422-1688-415b-8445-964ac6cfd919",
   "metadata": {},
   "outputs": [
    {
     "name": "stdout",
     "output_type": "stream",
     "text": [
      "(41144, 83)\n",
      "(41144, 86)\n",
      "(41144, 15)\n"
     ]
    },
    {
     "data": {
      "text/html": [
       "<div><style>\n",
       ".dataframe > thead > tr,\n",
       ".dataframe > tbody > tr {\n",
       "  text-align: right;\n",
       "  white-space: pre-wrap;\n",
       "}\n",
       "</style>\n",
       "<small>shape: (41_144, 15)</small><table border=\"1\" class=\"dataframe\"><thead><tr><th>city08</th><th>comb08</th><th>highway08</th><th>cylinders</th><th>displ</th><th>drive</th><th>fuelCost08</th><th>make</th><th>model</th><th>range</th><th>createdOn</th><th>year</th><th>FFS</th><th>speeds</th><th>manual</th></tr><tr><td>u8</td><td>u8</td><td>u8</td><td>u8</td><td>u8</td><td>cat</td><td>u16</td><td>cat</td><td>cat</td><td>u16</td><td>datetime[μs, America/New_York]</td><td>u16</td><td>bool</td><td>u8</td><td>bool</td></tr></thead><tbody><tr><td>19</td><td>21</td><td>25</td><td>4</td><td>2</td><td>&quot;Rear-Wheel Dri…</td><td>2000</td><td>&quot;Alfa Romeo&quot;</td><td>&quot;Spider Veloce …</td><td>0</td><td>2013-01-01 00:00:00 EST</td><td>1985</td><td>true</td><td>5</td><td>true</td></tr><tr><td>9</td><td>11</td><td>14</td><td>12</td><td>4</td><td>&quot;Rear-Wheel Dri…</td><td>3850</td><td>&quot;Ferrari&quot;</td><td>&quot;Testarossa&quot;</td><td>0</td><td>2013-01-01 00:00:00 EST</td><td>1985</td><td>false</td><td>5</td><td>true</td></tr><tr><td>23</td><td>27</td><td>33</td><td>4</td><td>2</td><td>&quot;Front-Wheel Dr…</td><td>1550</td><td>&quot;Dodge&quot;</td><td>&quot;Charger&quot;</td><td>0</td><td>2013-01-01 00:00:00 EST</td><td>1985</td><td>true</td><td>5</td><td>true</td></tr><tr><td>10</td><td>11</td><td>12</td><td>8</td><td>5</td><td>&quot;Rear-Wheel Dri…</td><td>3850</td><td>&quot;Dodge&quot;</td><td>&quot;B150/B250 Wago…</td><td>0</td><td>2013-01-01 00:00:00 EST</td><td>1985</td><td>null</td><td>3</td><td>false</td></tr><tr><td>17</td><td>19</td><td>23</td><td>4</td><td>2</td><td>&quot;4-Wheel or All…</td><td>2700</td><td>&quot;Subaru&quot;</td><td>&quot;Legacy AWD Tur…</td><td>0</td><td>2013-01-01 00:00:00 EST</td><td>1993</td><td>true</td><td>5</td><td>true</td></tr><tr><td>&hellip;</td><td>&hellip;</td><td>&hellip;</td><td>&hellip;</td><td>&hellip;</td><td>&hellip;</td><td>&hellip;</td><td>&hellip;</td><td>&hellip;</td><td>&hellip;</td><td>&hellip;</td><td>&hellip;</td><td>&hellip;</td><td>&hellip;</td><td>&hellip;</td></tr><tr><td>19</td><td>22</td><td>26</td><td>4</td><td>2</td><td>&quot;Front-Wheel Dr…</td><td>1900</td><td>&quot;Subaru&quot;</td><td>&quot;Legacy&quot;</td><td>0</td><td>2013-01-01 00:00:00 EST</td><td>1993</td><td>true</td><td>4</td><td>false</td></tr><tr><td>20</td><td>23</td><td>28</td><td>4</td><td>2</td><td>&quot;Front-Wheel Dr…</td><td>1850</td><td>&quot;Subaru&quot;</td><td>&quot;Legacy&quot;</td><td>0</td><td>2013-01-01 00:00:00 EST</td><td>1993</td><td>true</td><td>5</td><td>true</td></tr><tr><td>18</td><td>21</td><td>24</td><td>4</td><td>2</td><td>&quot;4-Wheel or All…</td><td>2000</td><td>&quot;Subaru&quot;</td><td>&quot;Legacy AWD&quot;</td><td>0</td><td>2013-01-01 00:00:00 EST</td><td>1993</td><td>true</td><td>4</td><td>false</td></tr><tr><td>18</td><td>21</td><td>24</td><td>4</td><td>2</td><td>&quot;4-Wheel or All…</td><td>2000</td><td>&quot;Subaru&quot;</td><td>&quot;Legacy AWD&quot;</td><td>0</td><td>2013-01-01 00:00:00 EST</td><td>1993</td><td>true</td><td>5</td><td>true</td></tr><tr><td>16</td><td>18</td><td>21</td><td>4</td><td>2</td><td>&quot;4-Wheel or All…</td><td>2900</td><td>&quot;Subaru&quot;</td><td>&quot;Legacy AWD Tur…</td><td>0</td><td>2013-01-01 00:00:00 EST</td><td>1993</td><td>true</td><td>4</td><td>false</td></tr></tbody></table></div>"
      ],
      "text/plain": [
       "shape: (41_144, 15)\n",
       "┌────────┬────────┬───────────┬───────────┬───┬──────┬───────┬────────┬────────┐\n",
       "│ city08 ┆ comb08 ┆ highway08 ┆ cylinders ┆ … ┆ year ┆ FFS   ┆ speeds ┆ manual │\n",
       "│ ---    ┆ ---    ┆ ---       ┆ ---       ┆   ┆ ---  ┆ ---   ┆ ---    ┆ ---    │\n",
       "│ u8     ┆ u8     ┆ u8        ┆ u8        ┆   ┆ u16  ┆ bool  ┆ u8     ┆ bool   │\n",
       "╞════════╪════════╪═══════════╪═══════════╪═══╪══════╪═══════╪════════╪════════╡\n",
       "│ 19     ┆ 21     ┆ 25        ┆ 4         ┆ … ┆ 1985 ┆ true  ┆ 5      ┆ true   │\n",
       "│ 9      ┆ 11     ┆ 14        ┆ 12        ┆ … ┆ 1985 ┆ false ┆ 5      ┆ true   │\n",
       "│ 23     ┆ 27     ┆ 33        ┆ 4         ┆ … ┆ 1985 ┆ true  ┆ 5      ┆ true   │\n",
       "│ 10     ┆ 11     ┆ 12        ┆ 8         ┆ … ┆ 1985 ┆ null  ┆ 3      ┆ false  │\n",
       "│ 17     ┆ 19     ┆ 23        ┆ 4         ┆ … ┆ 1993 ┆ true  ┆ 5      ┆ true   │\n",
       "│ …      ┆ …      ┆ …         ┆ …         ┆ … ┆ …    ┆ …     ┆ …      ┆ …      │\n",
       "│ 19     ┆ 22     ┆ 26        ┆ 4         ┆ … ┆ 1993 ┆ true  ┆ 4      ┆ false  │\n",
       "│ 20     ┆ 23     ┆ 28        ┆ 4         ┆ … ┆ 1993 ┆ true  ┆ 5      ┆ true   │\n",
       "│ 18     ┆ 21     ┆ 24        ┆ 4         ┆ … ┆ 1993 ┆ true  ┆ 4      ┆ false  │\n",
       "│ 18     ┆ 21     ┆ 24        ┆ 4         ┆ … ┆ 1993 ┆ true  ┆ 5      ┆ true   │\n",
       "│ 16     ┆ 18     ┆ 21        ┆ 4         ┆ … ┆ 1993 ┆ true  ┆ 4      ┆ false  │\n",
       "└────────┴────────┴───────────┴───────────┴───┴──────┴───────┴────────┴────────┘"
      ]
     },
     "execution_count": 7,
     "metadata": {},
     "output_type": "execute_result"
    }
   ],
   "source": [
    "# easy to debug\n",
    "\n",
    "def get_var(df, var_name):\n",
    "    globals()[var_name] = df\n",
    "    return df\n",
    "\n",
    "\n",
    "def tweak_autos_debug(autos):\n",
    "    return (autos\n",
    "        .pipe(lambda df: print(df.shape) or df)\n",
    "        .with_columns(\n",
    "            pl.col(['city08', 'comb08', 'highway08', 'displ',]).cast(pl.UInt8),\n",
    "            pl.col('cylinders').fill_null(0).cast(pl.UInt8),\n",
    "            pl.col(['fuelCost08', 'range', 'year',]).cast(pl.UInt16),\n",
    "            pl.col(['make', 'model',]).cast(pl.Categorical),\n",
    "            pl.col('drive').fill_null('other').cast(pl.Categorical),\n",
    "            pl.col('eng_dscr').str.contains('FFS').alias('FFS'),\n",
    "            pl.col('trany').str.extract(r'(\\d+)').cast(pl.UInt8).alias('speeds'),\n",
    "            pl.col('trany').str.contains('Manual').alias('manual'),\n",
    "            pl.col('createdOn').str.replace(' EDT', ' -0400')\n",
    "                    .str.replace(' EST', ' -0500')\n",
    "                    .str.strptime(pl.Datetime, '%a %b %d %H:%M:%S %z %Y')\n",
    "                    .dt.convert_time_zone('America/New_York')\n",
    "            )\n",
    "        .pipe(lambda df: print(df.shape) or df)\n",
    "        .pipe(get_var, 'df2')\n",
    "        .select(pl.col(['city08', 'comb08', 'highway08', 'cylinders', 'displ', 'drive', 'fuelCost08', 'make', 'model', 'range', 'createdOn', 'year', 'FFS', 'speeds', 'manual']))\n",
    "        .pipe(lambda df: print(df.shape) or df)  \n",
    "        )\n",
    "\n",
    "tweak_autos_debug(autos)"
   ]
  },
  {
   "cell_type": "code",
   "execution_count": 8,
   "id": "f1fcb27d-09c9-4c44-a379-3b11de539c75",
   "metadata": {},
   "outputs": [
    {
     "data": {
      "text/html": [
       "<div><style>\n",
       ".dataframe > thead > tr,\n",
       ".dataframe > tbody > tr {\n",
       "  text-align: right;\n",
       "  white-space: pre-wrap;\n",
       "}\n",
       "</style>\n",
       "<small>shape: (41_144, 86)</small><table border=\"1\" class=\"dataframe\"><thead><tr><th>barrels08</th><th>barrelsA08</th><th>charge120</th><th>charge240</th><th>city08</th><th>city08U</th><th>cityA08</th><th>cityA08U</th><th>cityCD</th><th>cityE</th><th>cityUF</th><th>co2</th><th>co2A</th><th>co2TailpipeAGpm</th><th>co2TailpipeGpm</th><th>comb08</th><th>comb08U</th><th>combA08</th><th>combA08U</th><th>combE</th><th>combinedCD</th><th>combinedUF</th><th>cylinders</th><th>displ</th><th>drive</th><th>engId</th><th>eng_dscr</th><th>feScore</th><th>fuelCost08</th><th>fuelCostA08</th><th>fuelType</th><th>fuelType1</th><th>ghgScore</th><th>ghgScoreA</th><th>highway08</th><th>highway08U</th><th>highwayA08</th><th>&hellip;</th><th>phevBlended</th><th>pv2</th><th>pv4</th><th>range</th><th>rangeCity</th><th>rangeCityA</th><th>rangeHwy</th><th>rangeHwyA</th><th>trany</th><th>UCity</th><th>UCityA</th><th>UHighway</th><th>UHighwayA</th><th>VClass</th><th>year</th><th>youSaveSpend</th><th>guzzler</th><th>trans_dscr</th><th>tCharger</th><th>sCharger</th><th>atvType</th><th>fuelType2</th><th>rangeA</th><th>evMotor</th><th>mfrCode</th><th>c240Dscr</th><th>charge240b</th><th>c240bDscr</th><th>createdOn</th><th>modifiedOn</th><th>startStop</th><th>phevCity</th><th>phevHwy</th><th>phevComb</th><th>FFS</th><th>speeds</th><th>manual</th></tr><tr><td>f64</td><td>f64</td><td>f64</td><td>f64</td><td>u8</td><td>f64</td><td>i64</td><td>f64</td><td>f64</td><td>f64</td><td>f64</td><td>i64</td><td>i64</td><td>f64</td><td>f64</td><td>u8</td><td>f64</td><td>i64</td><td>f64</td><td>f64</td><td>f64</td><td>f64</td><td>u8</td><td>u8</td><td>cat</td><td>i64</td><td>str</td><td>i64</td><td>u16</td><td>i64</td><td>str</td><td>str</td><td>i64</td><td>i64</td><td>u8</td><td>f64</td><td>i64</td><td>&hellip;</td><td>bool</td><td>i64</td><td>i64</td><td>u16</td><td>f64</td><td>f64</td><td>f64</td><td>f64</td><td>str</td><td>f64</td><td>f64</td><td>f64</td><td>f64</td><td>str</td><td>u16</td><td>i64</td><td>str</td><td>str</td><td>str</td><td>str</td><td>str</td><td>str</td><td>str</td><td>str</td><td>str</td><td>str</td><td>f64</td><td>str</td><td>datetime[μs, America/New_York]</td><td>str</td><td>str</td><td>i64</td><td>i64</td><td>i64</td><td>bool</td><td>u8</td><td>bool</td></tr></thead><tbody><tr><td>15.695714</td><td>0.0</td><td>0.0</td><td>0.0</td><td>19</td><td>0.0</td><td>0</td><td>0.0</td><td>0.0</td><td>0.0</td><td>0.0</td><td>-1</td><td>-1</td><td>0.0</td><td>423.190476</td><td>21</td><td>0.0</td><td>0</td><td>0.0</td><td>0.0</td><td>0.0</td><td>0.0</td><td>4</td><td>2</td><td>&quot;Rear-Wheel Dri…</td><td>9011</td><td>&quot;(FFS)&quot;</td><td>-1</td><td>2000</td><td>0</td><td>&quot;Regular&quot;</td><td>&quot;Regular Gasoli…</td><td>-1</td><td>-1</td><td>25</td><td>0.0</td><td>0</td><td>&hellip;</td><td>false</td><td>0</td><td>0</td><td>0</td><td>0.0</td><td>0.0</td><td>0.0</td><td>0.0</td><td>&quot;Manual 5-spd&quot;</td><td>23.3333</td><td>0.0</td><td>35.0</td><td>0.0</td><td>&quot;Two Seaters&quot;</td><td>1985</td><td>-2250</td><td>null</td><td>null</td><td>null</td><td>null</td><td>null</td><td>null</td><td>null</td><td>null</td><td>null</td><td>null</td><td>0.0</td><td>null</td><td>2013-01-01 00:00:00 EST</td><td>&quot;Tue Jan 01 00:…</td><td>null</td><td>0</td><td>0</td><td>0</td><td>true</td><td>5</td><td>true</td></tr><tr><td>29.964545</td><td>0.0</td><td>0.0</td><td>0.0</td><td>9</td><td>0.0</td><td>0</td><td>0.0</td><td>0.0</td><td>0.0</td><td>0.0</td><td>-1</td><td>-1</td><td>0.0</td><td>807.909091</td><td>11</td><td>0.0</td><td>0</td><td>0.0</td><td>0.0</td><td>0.0</td><td>0.0</td><td>12</td><td>4</td><td>&quot;Rear-Wheel Dri…</td><td>22020</td><td>&quot;(GUZZLER)&quot;</td><td>-1</td><td>3850</td><td>0</td><td>&quot;Regular&quot;</td><td>&quot;Regular Gasoli…</td><td>-1</td><td>-1</td><td>14</td><td>0.0</td><td>0</td><td>&hellip;</td><td>false</td><td>0</td><td>0</td><td>0</td><td>0.0</td><td>0.0</td><td>0.0</td><td>0.0</td><td>&quot;Manual 5-spd&quot;</td><td>11.0</td><td>0.0</td><td>19.0</td><td>0.0</td><td>&quot;Two Seaters&quot;</td><td>1985</td><td>-11500</td><td>&quot;T&quot;</td><td>null</td><td>null</td><td>null</td><td>null</td><td>null</td><td>null</td><td>null</td><td>null</td><td>null</td><td>0.0</td><td>null</td><td>2013-01-01 00:00:00 EST</td><td>&quot;Tue Jan 01 00:…</td><td>null</td><td>0</td><td>0</td><td>0</td><td>false</td><td>5</td><td>true</td></tr><tr><td>12.207778</td><td>0.0</td><td>0.0</td><td>0.0</td><td>23</td><td>0.0</td><td>0</td><td>0.0</td><td>0.0</td><td>0.0</td><td>0.0</td><td>-1</td><td>-1</td><td>0.0</td><td>329.148148</td><td>27</td><td>0.0</td><td>0</td><td>0.0</td><td>0.0</td><td>0.0</td><td>0.0</td><td>4</td><td>2</td><td>&quot;Front-Wheel Dr…</td><td>2100</td><td>&quot;(FFS)&quot;</td><td>-1</td><td>1550</td><td>0</td><td>&quot;Regular&quot;</td><td>&quot;Regular Gasoli…</td><td>-1</td><td>-1</td><td>33</td><td>0.0</td><td>0</td><td>&hellip;</td><td>false</td><td>0</td><td>0</td><td>0</td><td>0.0</td><td>0.0</td><td>0.0</td><td>0.0</td><td>&quot;Manual 5-spd&quot;</td><td>29.0</td><td>0.0</td><td>47.0</td><td>0.0</td><td>&quot;Subcompact Car…</td><td>1985</td><td>0</td><td>null</td><td>&quot;SIL&quot;</td><td>null</td><td>null</td><td>null</td><td>null</td><td>null</td><td>null</td><td>null</td><td>null</td><td>0.0</td><td>null</td><td>2013-01-01 00:00:00 EST</td><td>&quot;Tue Jan 01 00:…</td><td>null</td><td>0</td><td>0</td><td>0</td><td>true</td><td>5</td><td>true</td></tr><tr><td>29.964545</td><td>0.0</td><td>0.0</td><td>0.0</td><td>10</td><td>0.0</td><td>0</td><td>0.0</td><td>0.0</td><td>0.0</td><td>0.0</td><td>-1</td><td>-1</td><td>0.0</td><td>807.909091</td><td>11</td><td>0.0</td><td>0</td><td>0.0</td><td>0.0</td><td>0.0</td><td>0.0</td><td>8</td><td>5</td><td>&quot;Rear-Wheel Dri…</td><td>2850</td><td>null</td><td>-1</td><td>3850</td><td>0</td><td>&quot;Regular&quot;</td><td>&quot;Regular Gasoli…</td><td>-1</td><td>-1</td><td>12</td><td>0.0</td><td>0</td><td>&hellip;</td><td>false</td><td>0</td><td>0</td><td>0</td><td>0.0</td><td>0.0</td><td>0.0</td><td>0.0</td><td>&quot;Automatic 3-sp…</td><td>12.2222</td><td>0.0</td><td>16.6667</td><td>0.0</td><td>&quot;Vans&quot;</td><td>1985</td><td>-11500</td><td>null</td><td>null</td><td>null</td><td>null</td><td>null</td><td>null</td><td>null</td><td>null</td><td>null</td><td>null</td><td>0.0</td><td>null</td><td>2013-01-01 00:00:00 EST</td><td>&quot;Tue Jan 01 00:…</td><td>null</td><td>0</td><td>0</td><td>0</td><td>null</td><td>3</td><td>false</td></tr><tr><td>17.347895</td><td>0.0</td><td>0.0</td><td>0.0</td><td>17</td><td>0.0</td><td>0</td><td>0.0</td><td>0.0</td><td>0.0</td><td>0.0</td><td>-1</td><td>-1</td><td>0.0</td><td>467.736842</td><td>19</td><td>0.0</td><td>0</td><td>0.0</td><td>0.0</td><td>0.0</td><td>0.0</td><td>4</td><td>2</td><td>&quot;4-Wheel or All…</td><td>66031</td><td>&quot;(FFS,TRBO)&quot;</td><td>-1</td><td>2700</td><td>0</td><td>&quot;Premium&quot;</td><td>&quot;Premium Gasoli…</td><td>-1</td><td>-1</td><td>23</td><td>0.0</td><td>0</td><td>&hellip;</td><td>false</td><td>0</td><td>90</td><td>0</td><td>0.0</td><td>0.0</td><td>0.0</td><td>0.0</td><td>&quot;Manual 5-spd&quot;</td><td>21.0</td><td>0.0</td><td>32.0</td><td>0.0</td><td>&quot;Compact Cars&quot;</td><td>1993</td><td>-5750</td><td>null</td><td>null</td><td>&quot;T&quot;</td><td>null</td><td>null</td><td>null</td><td>null</td><td>null</td><td>null</td><td>null</td><td>0.0</td><td>null</td><td>2013-01-01 00:00:00 EST</td><td>&quot;Tue Jan 01 00:…</td><td>null</td><td>0</td><td>0</td><td>0</td><td>true</td><td>5</td><td>true</td></tr><tr><td>&hellip;</td><td>&hellip;</td><td>&hellip;</td><td>&hellip;</td><td>&hellip;</td><td>&hellip;</td><td>&hellip;</td><td>&hellip;</td><td>&hellip;</td><td>&hellip;</td><td>&hellip;</td><td>&hellip;</td><td>&hellip;</td><td>&hellip;</td><td>&hellip;</td><td>&hellip;</td><td>&hellip;</td><td>&hellip;</td><td>&hellip;</td><td>&hellip;</td><td>&hellip;</td><td>&hellip;</td><td>&hellip;</td><td>&hellip;</td><td>&hellip;</td><td>&hellip;</td><td>&hellip;</td><td>&hellip;</td><td>&hellip;</td><td>&hellip;</td><td>&hellip;</td><td>&hellip;</td><td>&hellip;</td><td>&hellip;</td><td>&hellip;</td><td>&hellip;</td><td>&hellip;</td><td>&hellip;</td><td>&hellip;</td><td>&hellip;</td><td>&hellip;</td><td>&hellip;</td><td>&hellip;</td><td>&hellip;</td><td>&hellip;</td><td>&hellip;</td><td>&hellip;</td><td>&hellip;</td><td>&hellip;</td><td>&hellip;</td><td>&hellip;</td><td>&hellip;</td><td>&hellip;</td><td>&hellip;</td><td>&hellip;</td><td>&hellip;</td><td>&hellip;</td><td>&hellip;</td><td>&hellip;</td><td>&hellip;</td><td>&hellip;</td><td>&hellip;</td><td>&hellip;</td><td>&hellip;</td><td>&hellip;</td><td>&hellip;</td><td>&hellip;</td><td>&hellip;</td><td>&hellip;</td><td>&hellip;</td><td>&hellip;</td><td>&hellip;</td><td>&hellip;</td><td>&hellip;</td><td>&hellip;</td></tr><tr><td>14.982273</td><td>0.0</td><td>0.0</td><td>0.0</td><td>19</td><td>0.0</td><td>0</td><td>0.0</td><td>0.0</td><td>0.0</td><td>0.0</td><td>-1</td><td>-1</td><td>0.0</td><td>403.954545</td><td>22</td><td>0.0</td><td>0</td><td>0.0</td><td>0.0</td><td>0.0</td><td>0.0</td><td>4</td><td>2</td><td>&quot;Front-Wheel Dr…</td><td>66030</td><td>&quot;(FFS)&quot;</td><td>-1</td><td>1900</td><td>0</td><td>&quot;Regular&quot;</td><td>&quot;Regular Gasoli…</td><td>-1</td><td>-1</td><td>26</td><td>0.0</td><td>0</td><td>&hellip;</td><td>false</td><td>0</td><td>90</td><td>0</td><td>0.0</td><td>0.0</td><td>0.0</td><td>0.0</td><td>&quot;Automatic 4-sp…</td><td>24.0</td><td>0.0</td><td>37.0</td><td>0.0</td><td>&quot;Compact Cars&quot;</td><td>1993</td><td>-1750</td><td>null</td><td>&quot;CLKUP&quot;</td><td>null</td><td>null</td><td>null</td><td>null</td><td>null</td><td>null</td><td>null</td><td>null</td><td>0.0</td><td>null</td><td>2013-01-01 00:00:00 EST</td><td>&quot;Tue Jan 01 00:…</td><td>null</td><td>0</td><td>0</td><td>0</td><td>true</td><td>4</td><td>false</td></tr><tr><td>14.33087</td><td>0.0</td><td>0.0</td><td>0.0</td><td>20</td><td>0.0</td><td>0</td><td>0.0</td><td>0.0</td><td>0.0</td><td>0.0</td><td>-1</td><td>-1</td><td>0.0</td><td>386.391304</td><td>23</td><td>0.0</td><td>0</td><td>0.0</td><td>0.0</td><td>0.0</td><td>0.0</td><td>4</td><td>2</td><td>&quot;Front-Wheel Dr…</td><td>66030</td><td>&quot;(FFS)&quot;</td><td>-1</td><td>1850</td><td>0</td><td>&quot;Regular&quot;</td><td>&quot;Regular Gasoli…</td><td>-1</td><td>-1</td><td>28</td><td>0.0</td><td>0</td><td>&hellip;</td><td>false</td><td>0</td><td>90</td><td>0</td><td>0.0</td><td>0.0</td><td>0.0</td><td>0.0</td><td>&quot;Manual 5-spd&quot;</td><td>25.0</td><td>0.0</td><td>39.0</td><td>0.0</td><td>&quot;Compact Cars&quot;</td><td>1993</td><td>-1500</td><td>null</td><td>null</td><td>null</td><td>null</td><td>null</td><td>null</td><td>null</td><td>null</td><td>null</td><td>null</td><td>0.0</td><td>null</td><td>2013-01-01 00:00:00 EST</td><td>&quot;Tue Jan 01 00:…</td><td>null</td><td>0</td><td>0</td><td>0</td><td>true</td><td>5</td><td>true</td></tr><tr><td>15.695714</td><td>0.0</td><td>0.0</td><td>0.0</td><td>18</td><td>0.0</td><td>0</td><td>0.0</td><td>0.0</td><td>0.0</td><td>0.0</td><td>-1</td><td>-1</td><td>0.0</td><td>423.190476</td><td>21</td><td>0.0</td><td>0</td><td>0.0</td><td>0.0</td><td>0.0</td><td>0.0</td><td>4</td><td>2</td><td>&quot;4-Wheel or All…</td><td>66030</td><td>&quot;(FFS)&quot;</td><td>-1</td><td>2000</td><td>0</td><td>&quot;Regular&quot;</td><td>&quot;Regular Gasoli…</td><td>-1</td><td>-1</td><td>24</td><td>0.0</td><td>0</td><td>&hellip;</td><td>false</td><td>0</td><td>90</td><td>0</td><td>0.0</td><td>0.0</td><td>0.0</td><td>0.0</td><td>&quot;Automatic 4-sp…</td><td>23.0</td><td>0.0</td><td>34.0</td><td>0.0</td><td>&quot;Compact Cars&quot;</td><td>1993</td><td>-2250</td><td>null</td><td>&quot;CLKUP&quot;</td><td>null</td><td>null</td><td>null</td><td>null</td><td>null</td><td>null</td><td>null</td><td>null</td><td>0.0</td><td>null</td><td>2013-01-01 00:00:00 EST</td><td>&quot;Tue Jan 01 00:…</td><td>null</td><td>0</td><td>0</td><td>0</td><td>true</td><td>4</td><td>false</td></tr><tr><td>15.695714</td><td>0.0</td><td>0.0</td><td>0.0</td><td>18</td><td>0.0</td><td>0</td><td>0.0</td><td>0.0</td><td>0.0</td><td>0.0</td><td>-1</td><td>-1</td><td>0.0</td><td>423.190476</td><td>21</td><td>0.0</td><td>0</td><td>0.0</td><td>0.0</td><td>0.0</td><td>0.0</td><td>4</td><td>2</td><td>&quot;4-Wheel or All…</td><td>66030</td><td>&quot;(FFS)&quot;</td><td>-1</td><td>2000</td><td>0</td><td>&quot;Regular&quot;</td><td>&quot;Regular Gasoli…</td><td>-1</td><td>-1</td><td>24</td><td>0.0</td><td>0</td><td>&hellip;</td><td>false</td><td>0</td><td>90</td><td>0</td><td>0.0</td><td>0.0</td><td>0.0</td><td>0.0</td><td>&quot;Manual 5-spd&quot;</td><td>23.0</td><td>0.0</td><td>34.0</td><td>0.0</td><td>&quot;Compact Cars&quot;</td><td>1993</td><td>-2250</td><td>null</td><td>null</td><td>null</td><td>null</td><td>null</td><td>null</td><td>null</td><td>null</td><td>null</td><td>null</td><td>0.0</td><td>null</td><td>2013-01-01 00:00:00 EST</td><td>&quot;Tue Jan 01 00:…</td><td>null</td><td>0</td><td>0</td><td>0</td><td>true</td><td>5</td><td>true</td></tr><tr><td>18.311667</td><td>0.0</td><td>0.0</td><td>0.0</td><td>16</td><td>0.0</td><td>0</td><td>0.0</td><td>0.0</td><td>0.0</td><td>0.0</td><td>-1</td><td>-1</td><td>0.0</td><td>493.722222</td><td>18</td><td>0.0</td><td>0</td><td>0.0</td><td>0.0</td><td>0.0</td><td>0.0</td><td>4</td><td>2</td><td>&quot;4-Wheel or All…</td><td>66031</td><td>&quot;(FFS,TRBO)&quot;</td><td>-1</td><td>2900</td><td>0</td><td>&quot;Premium&quot;</td><td>&quot;Premium Gasoli…</td><td>-1</td><td>-1</td><td>21</td><td>0.0</td><td>0</td><td>&hellip;</td><td>false</td><td>0</td><td>90</td><td>0</td><td>0.0</td><td>0.0</td><td>0.0</td><td>0.0</td><td>&quot;Automatic 4-sp…</td><td>20.0</td><td>0.0</td><td>29.0</td><td>0.0</td><td>&quot;Compact Cars&quot;</td><td>1993</td><td>-6750</td><td>null</td><td>&quot;CLKUP&quot;</td><td>&quot;T&quot;</td><td>null</td><td>null</td><td>null</td><td>null</td><td>null</td><td>null</td><td>null</td><td>0.0</td><td>null</td><td>2013-01-01 00:00:00 EST</td><td>&quot;Tue Jan 01 00:…</td><td>null</td><td>0</td><td>0</td><td>0</td><td>true</td><td>4</td><td>false</td></tr></tbody></table></div>"
      ],
      "text/plain": [
       "shape: (41_144, 86)\n",
       "┌───────────┬────────────┬───────────┬───────────┬───┬──────────┬───────┬────────┬────────┐\n",
       "│ barrels08 ┆ barrelsA08 ┆ charge120 ┆ charge240 ┆ … ┆ phevComb ┆ FFS   ┆ speeds ┆ manual │\n",
       "│ ---       ┆ ---        ┆ ---       ┆ ---       ┆   ┆ ---      ┆ ---   ┆ ---    ┆ ---    │\n",
       "│ f64       ┆ f64        ┆ f64       ┆ f64       ┆   ┆ i64      ┆ bool  ┆ u8     ┆ bool   │\n",
       "╞═══════════╪════════════╪═══════════╪═══════════╪═══╪══════════╪═══════╪════════╪════════╡\n",
       "│ 15.695714 ┆ 0.0        ┆ 0.0       ┆ 0.0       ┆ … ┆ 0        ┆ true  ┆ 5      ┆ true   │\n",
       "│ 29.964545 ┆ 0.0        ┆ 0.0       ┆ 0.0       ┆ … ┆ 0        ┆ false ┆ 5      ┆ true   │\n",
       "│ 12.207778 ┆ 0.0        ┆ 0.0       ┆ 0.0       ┆ … ┆ 0        ┆ true  ┆ 5      ┆ true   │\n",
       "│ 29.964545 ┆ 0.0        ┆ 0.0       ┆ 0.0       ┆ … ┆ 0        ┆ null  ┆ 3      ┆ false  │\n",
       "│ 17.347895 ┆ 0.0        ┆ 0.0       ┆ 0.0       ┆ … ┆ 0        ┆ true  ┆ 5      ┆ true   │\n",
       "│ …         ┆ …          ┆ …         ┆ …         ┆ … ┆ …        ┆ …     ┆ …      ┆ …      │\n",
       "│ 14.982273 ┆ 0.0        ┆ 0.0       ┆ 0.0       ┆ … ┆ 0        ┆ true  ┆ 4      ┆ false  │\n",
       "│ 14.33087  ┆ 0.0        ┆ 0.0       ┆ 0.0       ┆ … ┆ 0        ┆ true  ┆ 5      ┆ true   │\n",
       "│ 15.695714 ┆ 0.0        ┆ 0.0       ┆ 0.0       ┆ … ┆ 0        ┆ true  ┆ 4      ┆ false  │\n",
       "│ 15.695714 ┆ 0.0        ┆ 0.0       ┆ 0.0       ┆ … ┆ 0        ┆ true  ┆ 5      ┆ true   │\n",
       "│ 18.311667 ┆ 0.0        ┆ 0.0       ┆ 0.0       ┆ … ┆ 0        ┆ true  ┆ 4      ┆ false  │\n",
       "└───────────┴────────────┴───────────┴───────────┴───┴──────────┴───────┴────────┴────────┘"
      ]
     },
     "execution_count": 8,
     "metadata": {},
     "output_type": "execute_result"
    }
   ],
   "source": [
    "df2"
   ]
  }
 ],
 "metadata": {
  "kernelspec": {
   "display_name": "Python 3 (ipykernel)",
   "language": "python",
   "name": "python3"
  },
  "language_info": {
   "codemirror_mode": {
    "name": "ipython",
    "version": 3
   },
   "file_extension": ".py",
   "mimetype": "text/x-python",
   "name": "python",
   "nbconvert_exporter": "python",
   "pygments_lexer": "ipython3",
   "version": "3.10.12"
  }
 },
 "nbformat": 4,
 "nbformat_minor": 5
}
