{
 "cells": [
  {
   "cell_type": "code",
   "execution_count": 1,
   "id": "3eea36ac-ad12-4572-9094-88249808ea2e",
   "metadata": {},
   "outputs": [],
   "source": [
    "import numpy as np\n",
    "import polars as pl\n",
    "import pandas as pd"
   ]
  },
  {
   "cell_type": "code",
   "execution_count": 2,
   "id": "9eb4c88f-4ffc-42f1-aa8d-b10eae081bb6",
   "metadata": {},
   "outputs": [
    {
     "data": {
      "text/plain": [
       "'0.20.13'"
      ]
     },
     "execution_count": 2,
     "metadata": {},
     "output_type": "execute_result"
    }
   ],
   "source": [
    "pl.__version__"
   ]
  },
  {
   "cell_type": "code",
   "execution_count": 6,
   "id": "46ae5228-0bb6-4eaa-abd8-33451a6b385b",
   "metadata": {},
   "outputs": [],
   "source": [
    "import urllib.request\n",
    "import zipfile\n",
    "import os\n",
    "\n",
    "def download_and_unzip(url, extract_to='../datasets'):\n",
    "    zip_path, _ = urllib.request.urlretrieve(url)\n",
    "    with zipfile.ZipFile(zip_path) as zip_ref:\n",
    "        zip_ref.extractall(extract_to)\n",
    "    os.remove(zip_path)\n",
    "\n",
    "url = 'https://github.com/mattharrison/datasets/raw/master/data/vehicles.csv.zip'\n",
    "\n",
    "download_and_unzip(url)"
   ]
  },
  {
   "cell_type": "code",
   "execution_count": null,
   "id": "adb116b3-9709-4ba9-868b-7425c21fb35c",
   "metadata": {},
   "outputs": [],
   "source": [
    "autos = pl."
   ]
  }
 ],
 "metadata": {
  "kernelspec": {
   "display_name": "Python 3 (ipykernel)",
   "language": "python",
   "name": "python3"
  },
  "language_info": {
   "codemirror_mode": {
    "name": "ipython",
    "version": 3
   },
   "file_extension": ".py",
   "mimetype": "text/x-python",
   "name": "python",
   "nbconvert_exporter": "python",
   "pygments_lexer": "ipython3",
   "version": "3.10.12"
  }
 },
 "nbformat": 4,
 "nbformat_minor": 5
}
