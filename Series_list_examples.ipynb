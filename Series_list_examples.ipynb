{
 "cells": [
  {
   "cell_type": "code",
   "execution_count": 1,
   "id": "cdd07b02-c014-4241-8d9b-95688ebda16a",
   "metadata": {},
   "outputs": [],
   "source": [
    "import polars as pl"
   ]
  },
  {
   "cell_type": "code",
   "execution_count": 32,
   "id": "3dd4f4a0-e014-4f0d-9cf1-9c5c3022cb3b",
   "metadata": {},
   "outputs": [],
   "source": [
    "s = pl.Series(\"values\", [[5, 2, 1, 4], [3, 9], [3, 6, 6]])"
   ]
  },
  {
   "cell_type": "code",
   "execution_count": 34,
   "id": "50a47f74-0281-42f7-b1b8-5e93edc5bf09",
   "metadata": {},
   "outputs": [
    {
     "data": {
      "text/html": [
       "<div><style>\n",
       ".dataframe > thead > tr,\n",
       ".dataframe > tbody > tr {\n",
       "  text-align: right;\n",
       "  white-space: pre-wrap;\n",
       "}\n",
       "</style>\n",
       "<small>shape: (3,)</small><table border=\"1\" class=\"dataframe\"><thead><tr><th>values</th></tr><tr><td>f64</td></tr></thead><tbody><tr><td>3.0</td></tr><tr><td>6.0</td></tr><tr><td>6.0</td></tr></tbody></table></div>"
      ],
      "text/plain": [
       "shape: (3,)\n",
       "Series: 'values' [f64]\n",
       "[\n",
       "\t3.0\n",
       "\t6.0\n",
       "\t6.0\n",
       "]"
      ]
     },
     "execution_count": 34,
     "metadata": {},
     "output_type": "execute_result"
    }
   ],
   "source": [
    "s.list.median()"
   ]
  },
  {
   "cell_type": "code",
   "execution_count": 37,
   "id": "1af11669-fae5-4556-b208-a16c2b9cde08",
   "metadata": {},
   "outputs": [],
   "source": [
    "s.list.std()"
   ]
  },
  {
   "cell_type": "code",
   "execution_count": 38,
   "id": "3af7ecc9-d683-417d-83a1-b18f988dbf00",
   "metadata": {},
   "outputs": [],
   "source": [
    "s.list.var()"
   ]
  },
  {
   "cell_type": "code",
   "execution_count": null,
   "id": "70693426-f6bb-464d-ab7d-e576a90d7da5",
   "metadata": {},
   "outputs": [],
   "source": []
  }
 ],
 "metadata": {
  "kernelspec": {
   "display_name": "Python 3 (ipykernel)",
   "language": "python",
   "name": "python3"
  },
  "language_info": {
   "codemirror_mode": {
    "name": "ipython",
    "version": 3
   },
   "file_extension": ".py",
   "mimetype": "text/x-python",
   "name": "python",
   "nbconvert_exporter": "python",
   "pygments_lexer": "ipython3",
   "version": "3.10.12"
  }
 },
 "nbformat": 4,
 "nbformat_minor": 5
}
